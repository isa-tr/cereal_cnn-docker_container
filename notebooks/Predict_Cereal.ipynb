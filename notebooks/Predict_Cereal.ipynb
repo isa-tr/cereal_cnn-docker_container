{
  "nbformat": 4,
  "nbformat_minor": 0,
  "metadata": {
    "colab": {
      "name": "Predict_Cereal.ipynb",
      "provenance": [],
      "collapsed_sections": []
    },
    "kernelspec": {
      "name": "python3",
      "display_name": "Python 3"
    },
    "language_info": {
      "name": "python"
    }
  },
  "cells": [
    {
      "cell_type": "markdown",
      "source": [
        "# Notebook para probar la aplicación diseñada\n",
        "\n",
        "Se encuentra una función llamada predict() que recibe el path donde se ubica la imagen. Puede utilizar imágenes proporcionadas en la carpeta /sample_images o si lo prefiere puede cargar sus propias imágenes con la opción Upload de Jupyter Notebook. Es recomendable cargar la imagen en la misma carpeta /samples_images. "
      ],
      "metadata": {
        "id": "oKbIGcvrA91a"
      }
    },
    {
      "cell_type": "code",
      "source": [
        "import os\n",
        "import numpy as np\n",
        "import pandas as pd\n",
        "import matplotlib.pyplot as plt\n",
        "import cv2 as cv\n",
        "import tensorflow as tf\n",
        "from tensorflow.keras import models"
      ],
      "metadata": {
        "id": "nK5_SpEj-HU0"
      },
      "execution_count": null,
      "outputs": []
    },
    {
      "cell_type": "markdown",
      "source": [
        "La función recibe 'img_path', lee la imagen y la muestra. Posteriormente, es redimensionada a 224x224, normalizada y preparada en formato de batch para que ingrese a la red neuronal sin ningún problema. \n",
        "\n",
        "Se carga el archivo binario .h5 que contiene los pesos entrenados del modelo con mejor rendimiento y se calcula la predicción y la probabilidad con respecto a la imagen de entrada.\n",
        "\n",
        "La función retorna la predicción, clase y probabilidad arrojada por el modelo."
      ],
      "metadata": {
        "id": "lYGQl1nQBhIx"
      }
    },
    {
      "cell_type": "code",
      "execution_count": null,
      "metadata": {
        "id": "hra1A33296Jx"
      },
      "outputs": [],
      "source": [
        "def predict(img_path):\n",
        "    img = cv.imread(img_path)\n",
        "    print('Image to process')\n",
        "    img2 = img[:,:,::-1]\n",
        "    plt.imshow(img2)\n",
        "    plt.show()\n",
        "    print('Image shape before processing: ',img.shape)\n",
        "\n",
        "    # pre process image and normalize\n",
        "    img = cv.resize(img,(224,224))\n",
        "    img = np.expand_dims(img,0)\n",
        "    img = img/255\n",
        "    print('Image shape after processing: ', img.shape)\n",
        "    print('-------------------------------------------------')\n",
        "    print('Models Prediction')\n",
        "\n",
        "    # load the model\n",
        "    model = tf.keras.models.load_model('/opt/build/model4_95_64.h5')\n",
        "\n",
        "    # predict\n",
        "    prediction = np.argmax(model.predict(img))\n",
        "    proba = np.max(model.predict(img))*100\n",
        "    clase = ''\n",
        "    if prediction == 0:\n",
        "        clase = 'Others'\n",
        "    if prediction == 1:\n",
        "        clase = 'Zucaritas'\n",
        "    if prediction == 2:\n",
        "        clase = 'Choco Krispis'\n",
        "    if prediction == 3:\n",
        "        clase = 'Froot Loops'\n",
        "\n",
        "    return(prediction,clase,proba)"
      ]
    },
    {
      "cell_type": "code",
      "source": [
        "# Call the function predict()\n",
        "img_path = '/opt/build/sample_images/ChocoKrispi_1.jpg'\n",
        "result = predict(img_path)\n",
        "print('Label: {}\\nClass: {}\\nProbability: {:.2f}%'.format(result[0],result[1],result[2]))"
      ],
      "metadata": {
        "id": "eM26FdiM-L-J"
      },
      "execution_count": null,
      "outputs": []
    }
  ]
}