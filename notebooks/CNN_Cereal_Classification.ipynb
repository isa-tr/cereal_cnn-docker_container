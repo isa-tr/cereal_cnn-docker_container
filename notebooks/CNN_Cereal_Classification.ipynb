{
  "nbformat": 4,
  "nbformat_minor": 0,
  "metadata": {
    "colab": {
      "name": "CNN_Cereal_Classification.ipynb",
      "provenance": [],
      "collapsed_sections": []
    },
    "kernelspec": {
      "name": "python3",
      "display_name": "Python 3"
    },
    "language_info": {
      "name": "python"
    }
  },
  "cells": [
    {
      "cell_type": "markdown",
      "source": [
        "#<center>Red Neuronal Convolucional</center>\n",
        "\n",
        "<center>En este notebook se encuentran los resultados obtenidos después del entrenamiento de 4 modelos de redes neuronales convolucionales basados en la arquitectura de AlexNet. Se presenta la implementación de regularización y modificación de hiper-parámetros para evaluar el rendimiento final de los modelos con los datos de prueba. Finalmente, se escoge el modelo con mejor desempeño basándose en los resultados de accuracy en datos de prueba, matriz de confusión, falsos positivos y negativos.</center>"
      ],
      "metadata": {
        "id": "8UydJVw9PB1G"
      }
    },
    {
      "cell_type": "code",
      "execution_count": null,
      "metadata": {
        "id": "wS6wLz5ZO3sy",
        "colab": {
          "base_uri": "https://localhost:8080/"
        },
        "outputId": "c430dbc2-7d5e-4713-8c3e-eaabe8052939"
      },
      "outputs": [
        {
          "output_type": "stream",
          "name": "stdout",
          "text": [
            "Drive already mounted at /content/drive; to attempt to forcibly remount, call drive.mount(\"/content/drive\", force_remount=True).\n"
          ]
        }
      ],
      "source": [
        "# Se importa Google Drive para acceder a los datos\n",
        "from google.colab import drive\n",
        "drive.mount('/content/drive')"
      ]
    },
    {
      "cell_type": "code",
      "source": [
        "# Se importan las librerías necesarias utilizadas a lo largo del notebook\n",
        "import os\n",
        "import numpy as np\n",
        "import pandas as pd\n",
        "import matplotlib.pyplot as plt\n",
        "import cv2 as cv\n",
        "from google.colab.patches import cv2_imshow"
      ],
      "metadata": {
        "id": "jbrLd5b4lQGj"
      },
      "execution_count": null,
      "outputs": []
    },
    {
      "cell_type": "code",
      "source": [
        "import tensorflow as tf\n",
        "from tensorflow.keras import layers\n",
        "from tensorflow.keras import models, metrics, optimizers, preprocessing\n",
        "from tensorflow.keras import regularizers\n",
        "from tensorflow.keras.callbacks import EarlyStopping, ReduceLROnPlateau\n",
        "\n",
        "from sklearn.metrics import confusion_matrix\n",
        "from sklearn.metrics import plot_confusion_matrix\n",
        "from sklearn.metrics import ConfusionMatrixDisplay"
      ],
      "metadata": {
        "id": "Met8qUmy65lQ"
      },
      "execution_count": null,
      "outputs": []
    },
    {
      "cell_type": "code",
      "source": [
        "# Paths o rutas necesarias que contienen los datos\n",
        "root = '/content/drive/MyDrive/DeepVision/test_database_2'\n",
        "\n",
        "all_data = '/content/drive/MyDrive/DeepVision/test_database_2/all_images'\n",
        "proc_img0 = '/content/drive/MyDrive/DeepVision/test_database_2/all_processed_images/0/'\n",
        "proc_img1 = '/content/drive/MyDrive/DeepVision/test_database_2/all_processed_images/1/'\n",
        "proc_img2 = '/content/drive/MyDrive/DeepVision/test_database_2/all_processed_images/2/'\n",
        "proc_img3 = '/content/drive/MyDrive/DeepVision/test_database_2/all_processed_images/3/'\n",
        "\n",
        "models_path = '/content/drive/MyDrive/DeepVision/test_database_2/models'\n",
        "\n",
        "train_path = '/content/drive/MyDrive/DeepVision/test_database_2/train'\n",
        "test_path = '/content/drive/MyDrive/DeepVision/test_database_2/test'\n",
        "val_path = '/content/drive/MyDrive/DeepVision/test_database_2/val'"
      ],
      "metadata": {
        "id": "fS4-3CDg-dlA"
      },
      "execution_count": null,
      "outputs": []
    },
    {
      "cell_type": "markdown",
      "source": [
        "# Modelo de Red Neuronal "
      ],
      "metadata": {
        "id": "t8aIhJLe6_SJ"
      }
    },
    {
      "cell_type": "code",
      "source": [
        "# Load arrays x_train and x_val normalized and their respective encoded labels\n",
        "x_train_norm = np.load(os.path.join(train_path,'x_train_norm.npy'))\n",
        "y_train = np.load(os.path.join(train_path,'y_train_enc.npy'), allow_pickle=True)\n",
        "\n",
        "x_val_norm = np.load(os.path.join(val_path,'x_val_norm.npy'))\n",
        "y_val = np.load(os.path.join(val_path,'y_val_enc.npy'), allow_pickle=True)"
      ],
      "metadata": {
        "id": "r3_XGUNZwpbn"
      },
      "execution_count": null,
      "outputs": []
    },
    {
      "cell_type": "code",
      "source": [
        "print('1. x_train:', x_train_norm.shape)\n",
        "print('1. y_train:', y_train.shape)\n",
        "print('2. x_val:', x_val_norm.shape)\n",
        "print('2. y_val:', y_val.shape)"
      ],
      "metadata": {
        "colab": {
          "base_uri": "https://localhost:8080/"
        },
        "id": "DiGCcBjf6d0p",
        "outputId": "ebbc30e7-19a3-4a02-89a6-5ad3f764b729"
      },
      "execution_count": null,
      "outputs": [
        {
          "output_type": "stream",
          "name": "stdout",
          "text": [
            "1. x_train: (3080, 224, 224, 3)\n",
            "1. y_train: (3080, 4)\n",
            "2. x_val: (884, 224, 224, 3)\n",
            "2. y_val: (884, 4)\n"
          ]
        }
      ]
    },
    {
      "cell_type": "markdown",
      "source": [
        "# Modelo 1"
      ],
      "metadata": {
        "id": "V1lESivAPGQg"
      }
    },
    {
      "cell_type": "markdown",
      "source": [
        "Esta primera red neuronal cuenta con la misma arquitectura de AlexNet con la diferencia en el número de kernels o filtros en cada capa convolucional y densa. Los tamaños de filtros son los mismos que AlexNet."
      ],
      "metadata": {
        "id": "T8gqRBrog9E9"
      }
    },
    {
      "cell_type": "code",
      "source": [
        "model = models.Sequential()\n",
        "model.add(layers.Conv2D(32, 11, strides=(4,4), activation='relu', input_shape=(224,224,3)))\n",
        "model.add(layers.MaxPooling2D(3,strides=2))\n",
        "model.add(layers.Conv2D(32, 5, padding='same', activation='relu'))\n",
        "model.add(layers.MaxPooling2D(3,strides=2))\n",
        "model.add(layers.Conv2D(64, 3, padding='same', activation='relu'))\n",
        "model.add(layers.Conv2D(64, 3, padding='same', activation='relu'))\n",
        "model.add(layers.Conv2D(256, 3, padding='same', activation='relu'))\n",
        "model.add(layers.MaxPooling2D(3,strides=2))\n",
        "model.add(layers.Flatten())\n",
        "model.add(layers.Dense(512, activation='relu'))\n",
        "model.add(layers.Dropout(0.5))\n",
        "model.add(layers.Dense(512, activation='relu'))\n",
        "model.add(layers.Dropout(0.5))\n",
        "model.add(layers.Dense(4, activation='softmax'))\n",
        "model.summary()"
      ],
      "metadata": {
        "colab": {
          "base_uri": "https://localhost:8080/"
        },
        "id": "8uFvkbVL7k9t",
        "outputId": "fa5d292a-4b49-43ce-bbcd-2ff67c868042"
      },
      "execution_count": null,
      "outputs": [
        {
          "output_type": "stream",
          "name": "stdout",
          "text": [
            "Model: \"sequential\"\n",
            "_________________________________________________________________\n",
            " Layer (type)                Output Shape              Param #   \n",
            "=================================================================\n",
            " conv2d (Conv2D)             (None, 54, 54, 32)        11648     \n",
            "                                                                 \n",
            " max_pooling2d (MaxPooling2D  (None, 26, 26, 32)       0         \n",
            " )                                                               \n",
            "                                                                 \n",
            " conv2d_1 (Conv2D)           (None, 26, 26, 32)        25632     \n",
            "                                                                 \n",
            " max_pooling2d_1 (MaxPooling  (None, 12, 12, 32)       0         \n",
            " 2D)                                                             \n",
            "                                                                 \n",
            " conv2d_2 (Conv2D)           (None, 12, 12, 64)        18496     \n",
            "                                                                 \n",
            " conv2d_3 (Conv2D)           (None, 12, 12, 64)        36928     \n",
            "                                                                 \n",
            " conv2d_4 (Conv2D)           (None, 12, 12, 256)       147712    \n",
            "                                                                 \n",
            " max_pooling2d_2 (MaxPooling  (None, 5, 5, 256)        0         \n",
            " 2D)                                                             \n",
            "                                                                 \n",
            " flatten (Flatten)           (None, 6400)              0         \n",
            "                                                                 \n",
            " dense (Dense)               (None, 512)               3277312   \n",
            "                                                                 \n",
            " dropout (Dropout)           (None, 512)               0         \n",
            "                                                                 \n",
            " dense_1 (Dense)             (None, 512)               262656    \n",
            "                                                                 \n",
            " dropout_1 (Dropout)         (None, 512)               0         \n",
            "                                                                 \n",
            " dense_2 (Dense)             (None, 4)                 2052      \n",
            "                                                                 \n",
            "=================================================================\n",
            "Total params: 3,782,436\n",
            "Trainable params: 3,782,436\n",
            "Non-trainable params: 0\n",
            "_________________________________________________________________\n"
          ]
        }
      ]
    },
    {
      "cell_type": "markdown",
      "source": [
        "Se hace la compilación del modelo definiendo como optimizador Adam, como función de pérdida Categorical Crossentropy y para evaluar el rendimiento del modelo se utiliza la métrica Accuracy."
      ],
      "metadata": {
        "id": "Rsvv8yv4hcq2"
      }
    },
    {
      "cell_type": "code",
      "source": [
        "# Compile model\n",
        "model.compile(optimizer='adam', loss=tf.keras.losses.CategoricalCrossentropy(), metrics=['accuracy'])"
      ],
      "metadata": {
        "id": "rFxGmiQX-54S"
      },
      "execution_count": null,
      "outputs": []
    },
    {
      "cell_type": "markdown",
      "source": [
        "Se realiza el .fit del modelo, se le envían los datos de entrenamiento como de validación y se define el tamaño del batch igual a 60, eso quiere decir que en cada iteración se envían 52 imágenes. También el entrenamiento se realizó durante 20 épocas."
      ],
      "metadata": {
        "id": "eEIgUFU8hspd"
      }
    },
    {
      "cell_type": "code",
      "source": [
        "# Fit and start training\n",
        "model_1 = model.fit(x_train_norm, y_train, batch_size=60, epochs=20, \n",
        "                    validation_data=(x_val_norm,y_val))"
      ],
      "metadata": {
        "colab": {
          "base_uri": "https://localhost:8080/"
        },
        "id": "wqmO_YbjCeP1",
        "outputId": "9e24d4e9-edad-4090-896e-8d8980ae3a78"
      },
      "execution_count": null,
      "outputs": [
        {
          "output_type": "stream",
          "name": "stdout",
          "text": [
            "Epoch 1/20\n",
            "52/52 [==============================] - 15s 96ms/step - loss: 1.0643 - accuracy: 0.4990 - val_loss: 0.6227 - val_accuracy: 0.7489\n",
            "Epoch 2/20\n",
            "52/52 [==============================] - 3s 64ms/step - loss: 0.5632 - accuracy: 0.7776 - val_loss: 0.4351 - val_accuracy: 0.8405\n",
            "Epoch 3/20\n",
            "52/52 [==============================] - 3s 63ms/step - loss: 0.4297 - accuracy: 0.8393 - val_loss: 0.4281 - val_accuracy: 0.8156\n",
            "Epoch 4/20\n",
            "52/52 [==============================] - 3s 60ms/step - loss: 0.3519 - accuracy: 0.8672 - val_loss: 0.2852 - val_accuracy: 0.8914\n",
            "Epoch 5/20\n",
            "52/52 [==============================] - 3s 60ms/step - loss: 0.2581 - accuracy: 0.9055 - val_loss: 0.2759 - val_accuracy: 0.8914\n",
            "Epoch 6/20\n",
            "52/52 [==============================] - 3s 61ms/step - loss: 0.2301 - accuracy: 0.9127 - val_loss: 0.1782 - val_accuracy: 0.9186\n",
            "Epoch 7/20\n",
            "52/52 [==============================] - 3s 62ms/step - loss: 0.1988 - accuracy: 0.9247 - val_loss: 0.2507 - val_accuracy: 0.9061\n",
            "Epoch 8/20\n",
            "52/52 [==============================] - 3s 61ms/step - loss: 0.1857 - accuracy: 0.9338 - val_loss: 0.1905 - val_accuracy: 0.9231\n",
            "Epoch 9/20\n",
            "52/52 [==============================] - 3s 61ms/step - loss: 0.1565 - accuracy: 0.9422 - val_loss: 0.1772 - val_accuracy: 0.9333\n",
            "Epoch 10/20\n",
            "52/52 [==============================] - 3s 61ms/step - loss: 0.1189 - accuracy: 0.9549 - val_loss: 0.1812 - val_accuracy: 0.9367\n",
            "Epoch 11/20\n",
            "52/52 [==============================] - 3s 60ms/step - loss: 0.1083 - accuracy: 0.9575 - val_loss: 0.1357 - val_accuracy: 0.9491\n",
            "Epoch 12/20\n",
            "52/52 [==============================] - 3s 61ms/step - loss: 0.0790 - accuracy: 0.9682 - val_loss: 0.1967 - val_accuracy: 0.9446\n",
            "Epoch 13/20\n",
            "52/52 [==============================] - 3s 60ms/step - loss: 0.0906 - accuracy: 0.9679 - val_loss: 0.1352 - val_accuracy: 0.9525\n",
            "Epoch 14/20\n",
            "52/52 [==============================] - 3s 60ms/step - loss: 0.0795 - accuracy: 0.9724 - val_loss: 0.1542 - val_accuracy: 0.9480\n",
            "Epoch 15/20\n",
            "52/52 [==============================] - 3s 60ms/step - loss: 0.0725 - accuracy: 0.9744 - val_loss: 0.1633 - val_accuracy: 0.9389\n",
            "Epoch 16/20\n",
            "52/52 [==============================] - 3s 61ms/step - loss: 0.0889 - accuracy: 0.9679 - val_loss: 0.1348 - val_accuracy: 0.9593\n",
            "Epoch 17/20\n",
            "52/52 [==============================] - 3s 61ms/step - loss: 0.0551 - accuracy: 0.9802 - val_loss: 0.1759 - val_accuracy: 0.9525\n",
            "Epoch 18/20\n",
            "52/52 [==============================] - 3s 62ms/step - loss: 0.0663 - accuracy: 0.9786 - val_loss: 0.2327 - val_accuracy: 0.9344\n",
            "Epoch 19/20\n",
            "52/52 [==============================] - 3s 62ms/step - loss: 0.0622 - accuracy: 0.9760 - val_loss: 0.1924 - val_accuracy: 0.9491\n",
            "Epoch 20/20\n",
            "52/52 [==============================] - 3s 61ms/step - loss: 0.0686 - accuracy: 0.9773 - val_loss: 0.1337 - val_accuracy: 0.9593\n"
          ]
        }
      ]
    },
    {
      "cell_type": "code",
      "source": [
        "# Gráfica Model Accuracy \n",
        "plt.plot(model_1.history['accuracy'])\n",
        "plt.plot(model_1.history['val_accuracy'])\n",
        "plt.title('model accuracy')\n",
        "plt.ylabel('accuracy')\n",
        "plt.xlabel('epoch')\n",
        "plt.legend(['train', 'val'], loc='upper left')\n",
        "plt.show()\n",
        "# Gráfica Model Loss\n",
        "plt.plot(model_1.history['loss'])\n",
        "plt.plot(model_1.history['val_loss'])\n",
        "plt.title('model loss')\n",
        "plt.ylabel('loss')\n",
        "plt.xlabel('epoch')\n",
        "plt.legend(['train', 'val'], loc='upper left')\n",
        "plt.show()"
      ],
      "metadata": {
        "colab": {
          "base_uri": "https://localhost:8080/",
          "height": 573
        },
        "id": "QdEoXrcecJ0w",
        "outputId": "dcfafe06-5488-4882-ace2-9b98676ef0d9"
      },
      "execution_count": null,
      "outputs": [
        {
          "output_type": "display_data",
          "data": {
            "image/png": "[encoded data removed]",
            "text/plain": [
              "<Figure size 432x288 with 1 Axes>"
            ]
          },
          "metadata": {
            "needs_background": "light"
          }
        },
        {
          "output_type": "display_data",
          "data": {
            "image/png": "[encoded data removed]",
            "text/plain": [
              "<Figure size 432x288 with 1 Axes>"
            ]
          },
          "metadata": {
            "needs_background": "light"
          }
        }
      ]
    },
    {
      "cell_type": "markdown",
      "source": [
        "**Evaluación del modelo**"
      ],
      "metadata": {
        "id": "nDDDxJCOEt3K"
      }
    },
    {
      "cell_type": "markdown",
      "source": [
        "Para evaluar la capacidad de generalización y el rendimiento del modelo es necesario probarlo con los datos de prueba que no han sido vistos por la red anteriormente. De esta manera se obtuvo el siguiente resultado de accuracy."
      ],
      "metadata": {
        "id": "5a9dNClbiKzk"
      }
    },
    {
      "cell_type": "code",
      "source": [
        "# Test model\n",
        "# Load x_test_norm & y_test\n",
        "x_test_norm = np.load(os.path.join(test_path,'x_test_norm.npy'))\n",
        "y_test = np.load(os.path.join(test_path,'y_test_enc.npy'), allow_pickle=True)"
      ],
      "metadata": {
        "id": "qf9I-zlQEjw9"
      },
      "execution_count": null,
      "outputs": []
    },
    {
      "cell_type": "code",
      "source": [
        "# Compiled model to evaluate with test data\n",
        "model.evaluate(x_test_norm, y_test)"
      ],
      "metadata": {
        "colab": {
          "base_uri": "https://localhost:8080/"
        },
        "id": "0UOZw6J6BML2",
        "outputId": "2045f925-4f82-48a3-e720-10fa2afb4fa8"
      },
      "execution_count": null,
      "outputs": [
        {
          "output_type": "stream",
          "name": "stdout",
          "text": [
            "14/14 [==============================] - 1s 21ms/step - loss: 0.1628 - accuracy: 0.9381\n"
          ]
        },
        {
          "output_type": "execute_result",
          "data": {
            "text/plain": [
              "[0.16279226541519165, 0.9380733966827393]"
            ]
          },
          "metadata": {},
          "execution_count": 17
        }
      ]
    },
    {
      "cell_type": "markdown",
      "source": [
        "Un accuracy para los datos de prueba del 93.81% y un loss del 16.28%.\n",
        "\n",
        "Se procede a guardar el modelo en Drive."
      ],
      "metadata": {
        "id": "XDlVKiLKiV2C"
      }
    },
    {
      "cell_type": "code",
      "source": [
        "# Save model\n",
        "model.save(os.path.join(models_path, 'model1_93_81.h5'))"
      ],
      "metadata": {
        "id": "ryHeUJstDZ4c"
      },
      "execution_count": null,
      "outputs": []
    },
    {
      "cell_type": "code",
      "source": [
        "tf.keras.backend.clear_session"
      ],
      "metadata": {
        "colab": {
          "base_uri": "https://localhost:8080/"
        },
        "id": "MNenlEEfCCSo",
        "outputId": "fa60ad43-e07b-4536-be94-29a50c62b2c8"
      },
      "execution_count": null,
      "outputs": [
        {
          "output_type": "execute_result",
          "data": {
            "text/plain": [
              "<function keras.backend.clear_session>"
            ]
          },
          "metadata": {},
          "execution_count": 20
        }
      ]
    },
    {
      "cell_type": "markdown",
      "source": [
        "Se carga el modelo para calcular métricas a partir de la matriz de confusión."
      ],
      "metadata": {
        "id": "67Fv7R89unfj"
      }
    },
    {
      "cell_type": "code",
      "source": [
        "#load the model\n",
        "model_loaded = tf.keras.models.load_model(os.path.join(models_path, 'model1_93_81.h5'))"
      ],
      "metadata": {
        "id": "5sbgLbXVEuVo"
      },
      "execution_count": null,
      "outputs": []
    },
    {
      "cell_type": "markdown",
      "source": [
        "Matriz de Confusión"
      ],
      "metadata": {
        "id": "IIQXprvzExty"
      }
    },
    {
      "cell_type": "code",
      "source": [
        "preds = model_loaded.predict(x_test_norm)\n",
        "cm = confusion_matrix(y_test.argmax(axis=1), preds.argmax(axis=1))\n",
        "labels = [\"0\", \"1\", \"2\", \"3\"]\n",
        "disp = ConfusionMatrixDisplay(confusion_matrix=cm, display_labels=labels)\n",
        "disp.plot() "
      ],
      "metadata": {
        "colab": {
          "base_uri": "https://localhost:8080/",
          "height": 296
        },
        "id": "_b6MrhlCErgl",
        "outputId": "aad458bb-fdec-4cd6-9030-15d9f2a4ebaf"
      },
      "execution_count": null,
      "outputs": [
        {
          "output_type": "execute_result",
          "data": {
            "text/plain": [
              "<sklearn.metrics._plot.confusion_matrix.ConfusionMatrixDisplay at 0x7f76405026d0>"
            ]
          },
          "metadata": {},
          "execution_count": 11
        },
        {
          "output_type": "display_data",
          "data": {
            "image/png": "[encoded data removed]",
            "text/plain": [
              "<Figure size 432x288 with 2 Axes>"
            ]
          },
          "metadata": {
            "needs_background": "light"
          }
        }
      ]
    },
    {
      "cell_type": "code",
      "source": [
        "df = pd.DataFrame(data=cm, index=[\"0\", \"1\", \"2\", \"3\"], columns=[\"0\", \"1\", \"2\", \"3\"])\n",
        "\n",
        "FP = cm.sum(axis=0) - np.diag(cm)  \n",
        "FN = cm.sum(axis=1) - np.diag(cm)\n",
        "TP = np.diag(cm)\n",
        "TN = df.values.sum() - (FP + FN + TP) # necesito la cm como dataframe\n",
        "\n",
        "# Sensitivity, hit rate, recall, or true positive rate\n",
        "TPR = TP/(TP+FN)\n",
        "# Specificity or true negative rate\n",
        "TNR = TN/(TN+FP) \n",
        "# Precision or positive predictive value\n",
        "PPV = TP/(TP+FP)\n",
        "# Negative predictive value\n",
        "NPV = TN/(TN+FN)\n",
        "# Fall out or false positive rate\n",
        "FPR = FP/(FP+TN)\n",
        "# False negative rate\n",
        "FNR = FN/(TP+FN)\n",
        "# False discovery rate\n",
        "FDR = FP/(TP+FP)\n",
        "\n",
        "# Overall accuracy\n",
        "ACC = (TP+TN)/(TP+FP+FN+TN)"
      ],
      "metadata": {
        "id": "aYCm4d3qGcss"
      },
      "execution_count": null,
      "outputs": []
    },
    {
      "cell_type": "code",
      "source": [
        "metrics = np.array([FP,\n",
        "          FN,\n",
        "          TP,\n",
        "          TN,\n",
        "          TPR,\n",
        "          TNR,\n",
        "          PPV,\n",
        "          NPV,\n",
        "          FPR,\n",
        "          FNR,\n",
        "          FDR,\n",
        "          ACC])"
      ],
      "metadata": {
        "id": "Fwz5zD16Gp36"
      },
      "execution_count": null,
      "outputs": []
    },
    {
      "cell_type": "code",
      "source": [
        "df2 = pd.DataFrame(data=np.round(metrics,2), index=[\"FP\", \"FN\", \"TP\", \"TN\", \"TPR\", \"TNR\", \"PPV\", \"NPV\", \"FPR\", \"FNR\", \"FDR\", \"ACC\"],\n",
        "                   columns=[\"0\", \"1\", \"2\", \"3\"])"
      ],
      "metadata": {
        "id": "Yr3sgpNtGsTh"
      },
      "execution_count": null,
      "outputs": []
    },
    {
      "cell_type": "code",
      "source": [
        "df2"
      ],
      "metadata": {
        "colab": {
          "base_uri": "https://localhost:8080/",
          "height": 426
        },
        "id": "Ws3tI3G8Gyb9",
        "outputId": "de0f9cb1-937a-4af6-9835-5cfc0a6fe2c9"
      },
      "execution_count": null,
      "outputs": [
        {
          "output_type": "execute_result",
          "data": {
            "text/html": [
              "\n",
              "  <div id=\"df-f59a0bab-04ed-44e9-b693-b15ffc52b16f\">\n",
              "    <div class=\"colab-df-container\">\n",
              "      <div>\n",
              "<style scoped>\n",
              "    .dataframe tbody tr th:only-of-type {\n",
              "        vertical-align: middle;\n",
              "    }\n",
              "\n",
              "    .dataframe tbody tr th {\n",
              "        vertical-align: top;\n",
              "    }\n",
              "\n",
              "    .dataframe thead th {\n",
              "        text-align: right;\n",
              "    }\n",
              "</style>\n",
              "<table border=\"1\" class=\"dataframe\">\n",
              "  <thead>\n",
              "    <tr style=\"text-align: right;\">\n",
              "      <th></th>\n",
              "      <th>0</th>\n",
              "      <th>1</th>\n",
              "      <th>2</th>\n",
              "      <th>3</th>\n",
              "    </tr>\n",
              "  </thead>\n",
              "  <tbody>\n",
              "    <tr>\n",
              "      <th>FP</th>\n",
              "      <td>15.00</td>\n",
              "      <td>3.00</td>\n",
              "      <td>2.00</td>\n",
              "      <td>7.00</td>\n",
              "    </tr>\n",
              "    <tr>\n",
              "      <th>FN</th>\n",
              "      <td>11.00</td>\n",
              "      <td>8.00</td>\n",
              "      <td>5.00</td>\n",
              "      <td>3.00</td>\n",
              "    </tr>\n",
              "    <tr>\n",
              "      <th>TP</th>\n",
              "      <td>98.00</td>\n",
              "      <td>101.00</td>\n",
              "      <td>104.00</td>\n",
              "      <td>106.00</td>\n",
              "    </tr>\n",
              "    <tr>\n",
              "      <th>TN</th>\n",
              "      <td>312.00</td>\n",
              "      <td>324.00</td>\n",
              "      <td>325.00</td>\n",
              "      <td>320.00</td>\n",
              "    </tr>\n",
              "    <tr>\n",
              "      <th>TPR</th>\n",
              "      <td>0.90</td>\n",
              "      <td>0.93</td>\n",
              "      <td>0.95</td>\n",
              "      <td>0.97</td>\n",
              "    </tr>\n",
              "    <tr>\n",
              "      <th>TNR</th>\n",
              "      <td>0.95</td>\n",
              "      <td>0.99</td>\n",
              "      <td>0.99</td>\n",
              "      <td>0.98</td>\n",
              "    </tr>\n",
              "    <tr>\n",
              "      <th>PPV</th>\n",
              "      <td>0.87</td>\n",
              "      <td>0.97</td>\n",
              "      <td>0.98</td>\n",
              "      <td>0.94</td>\n",
              "    </tr>\n",
              "    <tr>\n",
              "      <th>NPV</th>\n",
              "      <td>0.97</td>\n",
              "      <td>0.98</td>\n",
              "      <td>0.98</td>\n",
              "      <td>0.99</td>\n",
              "    </tr>\n",
              "    <tr>\n",
              "      <th>FPR</th>\n",
              "      <td>0.05</td>\n",
              "      <td>0.01</td>\n",
              "      <td>0.01</td>\n",
              "      <td>0.02</td>\n",
              "    </tr>\n",
              "    <tr>\n",
              "      <th>FNR</th>\n",
              "      <td>0.10</td>\n",
              "      <td>0.07</td>\n",
              "      <td>0.05</td>\n",
              "      <td>0.03</td>\n",
              "    </tr>\n",
              "    <tr>\n",
              "      <th>FDR</th>\n",
              "      <td>0.13</td>\n",
              "      <td>0.03</td>\n",
              "      <td>0.02</td>\n",
              "      <td>0.06</td>\n",
              "    </tr>\n",
              "    <tr>\n",
              "      <th>ACC</th>\n",
              "      <td>0.94</td>\n",
              "      <td>0.97</td>\n",
              "      <td>0.98</td>\n",
              "      <td>0.98</td>\n",
              "    </tr>\n",
              "  </tbody>\n",
              "</table>\n",
              "</div>\n",
              "      <button class=\"colab-df-convert\" onclick=\"convertToInteractive('df-f59a0bab-04ed-44e9-b693-b15ffc52b16f')\"\n",
              "              title=\"Convert this dataframe to an interactive table.\"\n",
              "              style=\"display:none;\">\n",
              "        \n",
              "  <svg xmlns=\"http://www.w3.org/2000/svg\" height=\"24px\"viewBox=\"0 0 24 24\"\n",
              "       width=\"24px\">\n",
              "    <path d=\"M0 0h24v24H0V0z\" fill=\"none\"/>\n",
              "    <path d=\"M18.56 5.44l.94 2.06.94-2.06 2.06-.94-2.06-.94-.94-2.06-.94 2.06-2.06.94zm-11 1L8.5 8.5l.94-2.06 2.06-.94-2.06-.94L8.5 2.5l-.94 2.06-2.06.94zm10 10l.94 2.06.94-2.06 2.06-.94-2.06-.94-.94-2.06-.94 2.06-2.06.94z\"/><path d=\"M17.41 7.96l-1.37-1.37c-.4-.4-.92-.59-1.43-.59-.52 0-1.04.2-1.43.59L10.3 9.45l-7.72 7.72c-.78.78-.78 2.05 0 2.83L4 21.41c.39.39.9.59 1.41.59.51 0 1.02-.2 1.41-.59l7.78-7.78 2.81-2.81c.8-.78.8-2.07 0-2.86zM5.41 20L4 18.59l7.72-7.72 1.47 1.35L5.41 20z\"/>\n",
              "  </svg>\n",
              "      </button>\n",
              "      \n",
              "  <style>\n",
              "    .colab-df-container {\n",
              "      display:flex;\n",
              "      flex-wrap:wrap;\n",
              "      gap: 12px;\n",
              "    }\n",
              "\n",
              "    .colab-df-convert {\n",
              "      background-color: #E8F0FE;\n",
              "      border: none;\n",
              "      border-radius: 50%;\n",
              "      cursor: pointer;\n",
              "      display: none;\n",
              "      fill: #1967D2;\n",
              "      height: 32px;\n",
              "      padding: 0 0 0 0;\n",
              "      width: 32px;\n",
              "    }\n",
              "\n",
              "    .colab-df-convert:hover {\n",
              "      background-color: #E2EBFA;\n",
              "      box-shadow: 0px 1px 2px rgba(60, 64, 67, 0.3), 0px 1px 3px 1px rgba(60, 64, 67, 0.15);\n",
              "      fill: #174EA6;\n",
              "    }\n",
              "\n",
              "    [theme=dark] .colab-df-convert {\n",
              "      background-color: #3B4455;\n",
              "      fill: #D2E3FC;\n",
              "    }\n",
              "\n",
              "    [theme=dark] .colab-df-convert:hover {\n",
              "      background-color: #434B5C;\n",
              "      box-shadow: 0px 1px 3px 1px rgba(0, 0, 0, 0.15);\n",
              "      filter: drop-shadow(0px 1px 2px rgba(0, 0, 0, 0.3));\n",
              "      fill: #FFFFFF;\n",
              "    }\n",
              "  </style>\n",
              "\n",
              "      <script>\n",
              "        const buttonEl =\n",
              "          document.querySelector('#df-f59a0bab-04ed-44e9-b693-b15ffc52b16f button.colab-df-convert');\n",
              "        buttonEl.style.display =\n",
              "          google.colab.kernel.accessAllowed ? 'block' : 'none';\n",
              "\n",
              "        async function convertToInteractive(key) {\n",
              "          const element = document.querySelector('#df-f59a0bab-04ed-44e9-b693-b15ffc52b16f');\n",
              "          const dataTable =\n",
              "            await google.colab.kernel.invokeFunction('convertToInteractive',\n",
              "                                                     [key], {});\n",
              "          if (!dataTable) return;\n",
              "\n",
              "          const docLinkHtml = 'Like what you see? Visit the ' +\n",
              "            '<a target=\"_blank\" href=https://colab.research.google.com/notebooks/data_table.ipynb>data table notebook</a>'\n",
              "            + ' to learn more about interactive tables.';\n",
              "          element.innerHTML = '';\n",
              "          dataTable['output_type'] = 'display_data';\n",
              "          await google.colab.output.renderOutput(dataTable, element);\n",
              "          const docLink = document.createElement('div');\n",
              "          docLink.innerHTML = docLinkHtml;\n",
              "          element.appendChild(docLink);\n",
              "        }\n",
              "      </script>\n",
              "    </div>\n",
              "  </div>\n",
              "  "
            ],
            "text/plain": [
              "          0       1       2       3\n",
              "FP    15.00    3.00    2.00    7.00\n",
              "FN    11.00    8.00    5.00    3.00\n",
              "TP    98.00  101.00  104.00  106.00\n",
              "TN   312.00  324.00  325.00  320.00\n",
              "TPR    0.90    0.93    0.95    0.97\n",
              "TNR    0.95    0.99    0.99    0.98\n",
              "PPV    0.87    0.97    0.98    0.94\n",
              "NPV    0.97    0.98    0.98    0.99\n",
              "FPR    0.05    0.01    0.01    0.02\n",
              "FNR    0.10    0.07    0.05    0.03\n",
              "FDR    0.13    0.03    0.02    0.06\n",
              "ACC    0.94    0.97    0.98    0.98"
            ]
          },
          "metadata": {},
          "execution_count": 15
        }
      ]
    },
    {
      "cell_type": "markdown",
      "source": [
        "**Conclusión**\n",
        "\n",
        "Se puede observar que el modelo es capaz de diferenciar entre la clase 'Cereal' y la clase 'Otros'. Además, diferencia entre las 3 marcas de cereal con un porcentaje de accuracy del 97%, 98%, y 98%, respectivamente.\n",
        "\n",
        "El número de falsos positivos y negativos es de 54."
      ],
      "metadata": {
        "id": "3C-TI8xvu54F"
      }
    },
    {
      "cell_type": "markdown",
      "source": [
        "# Modelo 2\n",
        "\n",
        "En este modelo se implementa EarlyStopping o Parada Temprana en casos en que el valor del loss en datos de validación no disminuye despúes de 8 épocas consecutivas. Así mismo, se implementa la reducción del learning rate con un factor de 0.1 en casos en que el valor del loss no disminuye despúes de 4 épocas consecutivas. \n",
        "Por otra parte, se aumentó el número de épocas a 30."
      ],
      "metadata": {
        "id": "_u1zePtjSdot"
      }
    },
    {
      "cell_type": "code",
      "source": [
        "# Callbacks\n",
        "early_stop = EarlyStopping(monitor='val_loss', patience=8, verbose=1, min_delta=1e-4)  \n",
        "reduce_lr = ReduceLROnPlateau(monitor='val_loss', factor=0.1, patience=4, verbose=1, min_delta=1e-4)  \n",
        "callbacks_list = [early_stop, reduce_lr]  "
      ],
      "metadata": {
        "id": "VYiufecpSepy"
      },
      "execution_count": null,
      "outputs": []
    },
    {
      "cell_type": "code",
      "source": [
        "# Compile model\n",
        "model.compile(optimizer='adam', loss=tf.keras.losses.CategoricalCrossentropy(), metrics=['accuracy'])"
      ],
      "metadata": {
        "id": "Mu8gsF28SqcS"
      },
      "execution_count": null,
      "outputs": []
    },
    {
      "cell_type": "code",
      "source": [
        "# Fit and start training\n",
        "model_2 = model.fit(x_train_norm, y_train, batch_size=60, epochs=30, \n",
        "                    validation_data=(x_val_norm,y_val), callbacks=callbacks_list)"
      ],
      "metadata": {
        "colab": {
          "base_uri": "https://localhost:8080/"
        },
        "id": "kwmc8AOESmTy",
        "outputId": "39d33c25-6aa4-4138-b329-e5e23d1dd71c"
      },
      "execution_count": null,
      "outputs": [
        {
          "output_type": "stream",
          "name": "stdout",
          "text": [
            "Epoch 1/30\n",
            "52/52 [==============================] - 15s 82ms/step - loss: 1.0459 - accuracy: 0.5023 - val_loss: 0.5734 - val_accuracy: 0.8111 - lr: 0.0010\n",
            "Epoch 2/30\n",
            "52/52 [==============================] - 3s 54ms/step - loss: 0.5543 - accuracy: 0.7860 - val_loss: 0.5878 - val_accuracy: 0.7647 - lr: 0.0010\n",
            "Epoch 3/30\n",
            "52/52 [==============================] - 3s 49ms/step - loss: 0.4269 - accuracy: 0.8435 - val_loss: 0.2662 - val_accuracy: 0.8857 - lr: 0.0010\n",
            "Epoch 4/30\n",
            "52/52 [==============================] - 3s 49ms/step - loss: 0.2854 - accuracy: 0.8883 - val_loss: 0.3549 - val_accuracy: 0.8337 - lr: 0.0010\n",
            "Epoch 5/30\n",
            "52/52 [==============================] - 3s 54ms/step - loss: 0.2825 - accuracy: 0.8994 - val_loss: 0.2750 - val_accuracy: 0.8993 - lr: 0.0010\n",
            "Epoch 6/30\n",
            "52/52 [==============================] - 3s 49ms/step - loss: 0.2154 - accuracy: 0.9088 - val_loss: 0.1840 - val_accuracy: 0.9276 - lr: 0.0010\n",
            "Epoch 7/30\n",
            "52/52 [==============================] - 3s 49ms/step - loss: 0.1955 - accuracy: 0.9269 - val_loss: 0.3000 - val_accuracy: 0.8767 - lr: 0.0010\n",
            "Epoch 8/30\n",
            "52/52 [==============================] - 3s 49ms/step - loss: 0.1782 - accuracy: 0.9328 - val_loss: 0.2499 - val_accuracy: 0.9084 - lr: 0.0010\n",
            "Epoch 9/30\n",
            "52/52 [==============================] - 3s 53ms/step - loss: 0.1314 - accuracy: 0.9513 - val_loss: 0.1851 - val_accuracy: 0.9378 - lr: 0.0010\n",
            "Epoch 10/30\n",
            "52/52 [==============================] - ETA: 0s - loss: 0.0948 - accuracy: 0.9659\n",
            "Epoch 10: ReduceLROnPlateau reducing learning rate to 0.00010000000474974513.\n",
            "52/52 [==============================] - 3s 49ms/step - loss: 0.0948 - accuracy: 0.9659 - val_loss: 0.2056 - val_accuracy: 0.9457 - lr: 0.0010\n",
            "Epoch 11/30\n",
            "52/52 [==============================] - 3s 48ms/step - loss: 0.0624 - accuracy: 0.9750 - val_loss: 0.1464 - val_accuracy: 0.9514 - lr: 1.0000e-04\n",
            "Epoch 12/30\n",
            "52/52 [==============================] - 3s 49ms/step - loss: 0.0382 - accuracy: 0.9886 - val_loss: 0.1527 - val_accuracy: 0.9514 - lr: 1.0000e-04\n",
            "Epoch 13/30\n",
            "52/52 [==============================] - 3s 49ms/step - loss: 0.0314 - accuracy: 0.9909 - val_loss: 0.1711 - val_accuracy: 0.9491 - lr: 1.0000e-04\n",
            "Epoch 14/30\n",
            "52/52 [==============================] - 3s 61ms/step - loss: 0.0299 - accuracy: 0.9903 - val_loss: 0.1644 - val_accuracy: 0.9502 - lr: 1.0000e-04\n",
            "Epoch 15/30\n",
            "51/52 [============================>.] - ETA: 0s - loss: 0.0260 - accuracy: 0.9905\n",
            "Epoch 15: ReduceLROnPlateau reducing learning rate to 1.0000000474974514e-05.\n",
            "52/52 [==============================] - 3s 49ms/step - loss: 0.0258 - accuracy: 0.9906 - val_loss: 0.1637 - val_accuracy: 0.9514 - lr: 1.0000e-04\n",
            "Epoch 16/30\n",
            "52/52 [==============================] - 3s 49ms/step - loss: 0.0243 - accuracy: 0.9929 - val_loss: 0.1621 - val_accuracy: 0.9514 - lr: 1.0000e-05\n",
            "Epoch 17/30\n",
            "52/52 [==============================] - 3s 49ms/step - loss: 0.0206 - accuracy: 0.9948 - val_loss: 0.1626 - val_accuracy: 0.9491 - lr: 1.0000e-05\n",
            "Epoch 18/30\n",
            "52/52 [==============================] - 3s 49ms/step - loss: 0.0232 - accuracy: 0.9929 - val_loss: 0.1614 - val_accuracy: 0.9502 - lr: 1.0000e-05\n",
            "Epoch 19/30\n",
            "51/52 [============================>.] - ETA: 0s - loss: 0.0210 - accuracy: 0.9935\n",
            "Epoch 19: ReduceLROnPlateau reducing learning rate to 1.0000000656873453e-06.\n",
            "52/52 [==============================] - 2s 48ms/step - loss: 0.0213 - accuracy: 0.9932 - val_loss: 0.1640 - val_accuracy: 0.9502 - lr: 1.0000e-05\n",
            "Epoch 19: early stopping\n"
          ]
        }
      ]
    },
    {
      "cell_type": "code",
      "source": [
        "# Gráfica Model Accuracy \n",
        "plt.plot(model_2.history['accuracy'])\n",
        "plt.plot(model_2.history['val_accuracy'])\n",
        "plt.title('model accuracy')\n",
        "plt.ylabel('accuracy')\n",
        "plt.xlabel('epoch')\n",
        "plt.legend(['train', 'val'], loc='upper left')\n",
        "plt.show()\n",
        "# Gráfica Model Loss\n",
        "plt.plot(model_2.history['loss'])\n",
        "plt.plot(model_2.history['val_loss'])\n",
        "plt.title('model loss')\n",
        "plt.ylabel('loss')\n",
        "plt.xlabel('epoch')\n",
        "plt.legend(['train', 'val'], loc='upper left')\n",
        "plt.show()"
      ],
      "metadata": {
        "colab": {
          "base_uri": "https://localhost:8080/",
          "height": 573
        },
        "id": "JeONpg-_TOKz",
        "outputId": "4e5793fc-c42a-42c9-d568-53de2f8c1c6d"
      },
      "execution_count": null,
      "outputs": [
        {
          "output_type": "display_data",
          "data": {
            "image/png": "[encoded data removed]",
            "text/plain": [
              "<Figure size 432x288 with 1 Axes>"
            ]
          },
          "metadata": {
            "needs_background": "light"
          }
        },
        {
          "output_type": "display_data",
          "data": {
            "image/png": "[encoded data removed]",
            "text/plain": [
              "<Figure size 432x288 with 1 Axes>"
            ]
          },
          "metadata": {
            "needs_background": "light"
          }
        }
      ]
    },
    {
      "cell_type": "code",
      "source": [
        "# Load x_test_norm\n",
        "x_test_norm = np.load(os.path.join(test_path,'x_test_norm.npy'))\n",
        "y_test = np.load(os.path.join(test_path,'y_test_enc.npy'),allow_pickle=True)"
      ],
      "metadata": {
        "id": "KhD64rgqVGE0"
      },
      "execution_count": null,
      "outputs": []
    },
    {
      "cell_type": "code",
      "source": [
        "# Compiled model to evaluate with test data\n",
        "model.evaluate(x_test_norm, y_test)"
      ],
      "metadata": {
        "colab": {
          "base_uri": "https://localhost:8080/"
        },
        "id": "klcjV10uTQ-W",
        "outputId": "029c624d-c3ea-44eb-ecf9-ec6aa3dfe1cd"
      },
      "execution_count": null,
      "outputs": [
        {
          "output_type": "stream",
          "name": "stdout",
          "text": [
            "14/14 [==============================] - 1s 22ms/step - loss: 0.1535 - accuracy: 0.9472\n"
          ]
        },
        {
          "output_type": "execute_result",
          "data": {
            "text/plain": [
              "[0.15352925658226013, 0.9472476840019226]"
            ]
          },
          "metadata": {},
          "execution_count": 18
        }
      ]
    },
    {
      "cell_type": "markdown",
      "source": [
        "Se obtuvo un valor de accuracy para los datos de prueba del 94.72% y un loss del 15.35%. En comparación con el Modelo1 de la sección anterior, éste modelo tiene mejor rendimiento."
      ],
      "metadata": {
        "id": "bfzPiJ1HwTPc"
      }
    },
    {
      "cell_type": "code",
      "source": [
        "# Save model\n",
        "model.save(os.path.join(models_path, 'model2_94_72.h5'))"
      ],
      "metadata": {
        "id": "DbYpgWQ_VVZp"
      },
      "execution_count": null,
      "outputs": []
    },
    {
      "cell_type": "code",
      "source": [
        "#load the model\n",
        "model_2 = tf.keras.models.load_model(os.path.join(models_path, 'model2_94_72.h5'))"
      ],
      "metadata": {
        "id": "JM6RBy1tHZuS"
      },
      "execution_count": null,
      "outputs": []
    },
    {
      "cell_type": "markdown",
      "source": [
        "Matriz de Confusión"
      ],
      "metadata": {
        "id": "X-Y4Ry_bHZuT"
      }
    },
    {
      "cell_type": "code",
      "source": [
        "preds = model_2.predict(x_test_norm)\n",
        "cm = confusion_matrix(y_test.argmax(axis=1), preds.argmax(axis=1))\n",
        "labels = [\"0\", \"1\", \"2\", \"3\"]\n",
        "disp = ConfusionMatrixDisplay(confusion_matrix=cm, display_labels=labels)\n",
        "disp.plot() "
      ],
      "metadata": {
        "colab": {
          "base_uri": "https://localhost:8080/",
          "height": 296
        },
        "outputId": "939b6d40-d52e-45cd-e05b-de731b4645ca",
        "id": "vVQ-u_ncHZuT"
      },
      "execution_count": null,
      "outputs": [
        {
          "output_type": "execute_result",
          "data": {
            "text/plain": [
              "<sklearn.metrics._plot.confusion_matrix.ConfusionMatrixDisplay at 0x7f7640040810>"
            ]
          },
          "metadata": {},
          "execution_count": 17
        },
        {
          "output_type": "display_data",
          "data": {
            "image/png": "[encoded data removed]",
            "text/plain": [
              "<Figure size 432x288 with 2 Axes>"
            ]
          },
          "metadata": {
            "needs_background": "light"
          }
        }
      ]
    },
    {
      "cell_type": "code",
      "source": [
        "df = pd.DataFrame(data=cm, index=[\"0\", \"1\", \"2\", \"3\"], columns=[\"0\", \"1\", \"2\", \"3\"])\n",
        "\n",
        "FP = cm.sum(axis=0) - np.diag(cm)  \n",
        "FN = cm.sum(axis=1) - np.diag(cm)\n",
        "TP = np.diag(cm)\n",
        "TN = df.values.sum() - (FP + FN + TP) # necesito la cm como dataframe\n",
        "\n",
        "# Sensitivity, hit rate, recall, or true positive rate\n",
        "TPR = TP/(TP+FN)\n",
        "# Specificity or true negative rate\n",
        "TNR = TN/(TN+FP) \n",
        "# Precision or positive predictive value\n",
        "PPV = TP/(TP+FP)\n",
        "# Negative predictive value\n",
        "NPV = TN/(TN+FN)\n",
        "# Fall out or false positive rate\n",
        "FPR = FP/(FP+TN)\n",
        "# False negative rate\n",
        "FNR = FN/(TP+FN)\n",
        "# False discovery rate\n",
        "FDR = FP/(TP+FP)\n",
        "\n",
        "# Overall accuracy\n",
        "ACC = (TP+TN)/(TP+FP+FN+TN)"
      ],
      "metadata": {
        "id": "6hsMgcSUHZuT"
      },
      "execution_count": null,
      "outputs": []
    },
    {
      "cell_type": "code",
      "source": [
        "metrics = np.array([FP,\n",
        "          FN,\n",
        "          TP,\n",
        "          TN,\n",
        "          TPR,\n",
        "          TNR,\n",
        "          PPV,\n",
        "          NPV,\n",
        "          FPR,\n",
        "          FNR,\n",
        "          FDR,\n",
        "          ACC])"
      ],
      "metadata": {
        "id": "Dxaa6W2GHZuU"
      },
      "execution_count": null,
      "outputs": []
    },
    {
      "cell_type": "code",
      "source": [
        "df2 = pd.DataFrame(data=np.round(metrics,2), index=[\"FP\", \"FN\", \"TP\", \"TN\", \"TPR\", \"TNR\", \"PPV\", \"NPV\", \"FPR\", \"FNR\", \"FDR\", \"ACC\"],\n",
        "                   columns=[\"0\", \"1\", \"2\", \"3\"])"
      ],
      "metadata": {
        "id": "_qLezIK5HZuU"
      },
      "execution_count": null,
      "outputs": []
    },
    {
      "cell_type": "code",
      "source": [
        "df2"
      ],
      "metadata": {
        "colab": {
          "base_uri": "https://localhost:8080/",
          "height": 426
        },
        "outputId": "354bcd4d-1b1e-46e8-e44c-78202dc852e2",
        "id": "uV--t1ieHZuU"
      },
      "execution_count": null,
      "outputs": [
        {
          "output_type": "execute_result",
          "data": {
            "text/html": [
              "\n",
              "  <div id=\"df-368f617c-beb7-44b3-9003-d10cb0f59e4f\">\n",
              "    <div class=\"colab-df-container\">\n",
              "      <div>\n",
              "<style scoped>\n",
              "    .dataframe tbody tr th:only-of-type {\n",
              "        vertical-align: middle;\n",
              "    }\n",
              "\n",
              "    .dataframe tbody tr th {\n",
              "        vertical-align: top;\n",
              "    }\n",
              "\n",
              "    .dataframe thead th {\n",
              "        text-align: right;\n",
              "    }\n",
              "</style>\n",
              "<table border=\"1\" class=\"dataframe\">\n",
              "  <thead>\n",
              "    <tr style=\"text-align: right;\">\n",
              "      <th></th>\n",
              "      <th>0</th>\n",
              "      <th>1</th>\n",
              "      <th>2</th>\n",
              "      <th>3</th>\n",
              "    </tr>\n",
              "  </thead>\n",
              "  <tbody>\n",
              "    <tr>\n",
              "      <th>FP</th>\n",
              "      <td>9.00</td>\n",
              "      <td>5.00</td>\n",
              "      <td>3.00</td>\n",
              "      <td>6.00</td>\n",
              "    </tr>\n",
              "    <tr>\n",
              "      <th>FN</th>\n",
              "      <td>14.00</td>\n",
              "      <td>4.00</td>\n",
              "      <td>2.00</td>\n",
              "      <td>3.00</td>\n",
              "    </tr>\n",
              "    <tr>\n",
              "      <th>TP</th>\n",
              "      <td>95.00</td>\n",
              "      <td>105.00</td>\n",
              "      <td>107.00</td>\n",
              "      <td>106.00</td>\n",
              "    </tr>\n",
              "    <tr>\n",
              "      <th>TN</th>\n",
              "      <td>318.00</td>\n",
              "      <td>322.00</td>\n",
              "      <td>324.00</td>\n",
              "      <td>321.00</td>\n",
              "    </tr>\n",
              "    <tr>\n",
              "      <th>TPR</th>\n",
              "      <td>0.87</td>\n",
              "      <td>0.96</td>\n",
              "      <td>0.98</td>\n",
              "      <td>0.97</td>\n",
              "    </tr>\n",
              "    <tr>\n",
              "      <th>TNR</th>\n",
              "      <td>0.97</td>\n",
              "      <td>0.98</td>\n",
              "      <td>0.99</td>\n",
              "      <td>0.98</td>\n",
              "    </tr>\n",
              "    <tr>\n",
              "      <th>PPV</th>\n",
              "      <td>0.91</td>\n",
              "      <td>0.95</td>\n",
              "      <td>0.97</td>\n",
              "      <td>0.95</td>\n",
              "    </tr>\n",
              "    <tr>\n",
              "      <th>NPV</th>\n",
              "      <td>0.96</td>\n",
              "      <td>0.99</td>\n",
              "      <td>0.99</td>\n",
              "      <td>0.99</td>\n",
              "    </tr>\n",
              "    <tr>\n",
              "      <th>FPR</th>\n",
              "      <td>0.03</td>\n",
              "      <td>0.02</td>\n",
              "      <td>0.01</td>\n",
              "      <td>0.02</td>\n",
              "    </tr>\n",
              "    <tr>\n",
              "      <th>FNR</th>\n",
              "      <td>0.13</td>\n",
              "      <td>0.04</td>\n",
              "      <td>0.02</td>\n",
              "      <td>0.03</td>\n",
              "    </tr>\n",
              "    <tr>\n",
              "      <th>FDR</th>\n",
              "      <td>0.09</td>\n",
              "      <td>0.05</td>\n",
              "      <td>0.03</td>\n",
              "      <td>0.05</td>\n",
              "    </tr>\n",
              "    <tr>\n",
              "      <th>ACC</th>\n",
              "      <td>0.95</td>\n",
              "      <td>0.98</td>\n",
              "      <td>0.99</td>\n",
              "      <td>0.98</td>\n",
              "    </tr>\n",
              "  </tbody>\n",
              "</table>\n",
              "</div>\n",
              "      <button class=\"colab-df-convert\" onclick=\"convertToInteractive('df-368f617c-beb7-44b3-9003-d10cb0f59e4f')\"\n",
              "              title=\"Convert this dataframe to an interactive table.\"\n",
              "              style=\"display:none;\">\n",
              "        \n",
              "  <svg xmlns=\"http://www.w3.org/2000/svg\" height=\"24px\"viewBox=\"0 0 24 24\"\n",
              "       width=\"24px\">\n",
              "    <path d=\"M0 0h24v24H0V0z\" fill=\"none\"/>\n",
              "    <path d=\"M18.56 5.44l.94 2.06.94-2.06 2.06-.94-2.06-.94-.94-2.06-.94 2.06-2.06.94zm-11 1L8.5 8.5l.94-2.06 2.06-.94-2.06-.94L8.5 2.5l-.94 2.06-2.06.94zm10 10l.94 2.06.94-2.06 2.06-.94-2.06-.94-.94-2.06-.94 2.06-2.06.94z\"/><path d=\"M17.41 7.96l-1.37-1.37c-.4-.4-.92-.59-1.43-.59-.52 0-1.04.2-1.43.59L10.3 9.45l-7.72 7.72c-.78.78-.78 2.05 0 2.83L4 21.41c.39.39.9.59 1.41.59.51 0 1.02-.2 1.41-.59l7.78-7.78 2.81-2.81c.8-.78.8-2.07 0-2.86zM5.41 20L4 18.59l7.72-7.72 1.47 1.35L5.41 20z\"/>\n",
              "  </svg>\n",
              "      </button>\n",
              "      \n",
              "  <style>\n",
              "    .colab-df-container {\n",
              "      display:flex;\n",
              "      flex-wrap:wrap;\n",
              "      gap: 12px;\n",
              "    }\n",
              "\n",
              "    .colab-df-convert {\n",
              "      background-color: #E8F0FE;\n",
              "      border: none;\n",
              "      border-radius: 50%;\n",
              "      cursor: pointer;\n",
              "      display: none;\n",
              "      fill: #1967D2;\n",
              "      height: 32px;\n",
              "      padding: 0 0 0 0;\n",
              "      width: 32px;\n",
              "    }\n",
              "\n",
              "    .colab-df-convert:hover {\n",
              "      background-color: #E2EBFA;\n",
              "      box-shadow: 0px 1px 2px rgba(60, 64, 67, 0.3), 0px 1px 3px 1px rgba(60, 64, 67, 0.15);\n",
              "      fill: #174EA6;\n",
              "    }\n",
              "\n",
              "    [theme=dark] .colab-df-convert {\n",
              "      background-color: #3B4455;\n",
              "      fill: #D2E3FC;\n",
              "    }\n",
              "\n",
              "    [theme=dark] .colab-df-convert:hover {\n",
              "      background-color: #434B5C;\n",
              "      box-shadow: 0px 1px 3px 1px rgba(0, 0, 0, 0.15);\n",
              "      filter: drop-shadow(0px 1px 2px rgba(0, 0, 0, 0.3));\n",
              "      fill: #FFFFFF;\n",
              "    }\n",
              "  </style>\n",
              "\n",
              "      <script>\n",
              "        const buttonEl =\n",
              "          document.querySelector('#df-368f617c-beb7-44b3-9003-d10cb0f59e4f button.colab-df-convert');\n",
              "        buttonEl.style.display =\n",
              "          google.colab.kernel.accessAllowed ? 'block' : 'none';\n",
              "\n",
              "        async function convertToInteractive(key) {\n",
              "          const element = document.querySelector('#df-368f617c-beb7-44b3-9003-d10cb0f59e4f');\n",
              "          const dataTable =\n",
              "            await google.colab.kernel.invokeFunction('convertToInteractive',\n",
              "                                                     [key], {});\n",
              "          if (!dataTable) return;\n",
              "\n",
              "          const docLinkHtml = 'Like what you see? Visit the ' +\n",
              "            '<a target=\"_blank\" href=https://colab.research.google.com/notebooks/data_table.ipynb>data table notebook</a>'\n",
              "            + ' to learn more about interactive tables.';\n",
              "          element.innerHTML = '';\n",
              "          dataTable['output_type'] = 'display_data';\n",
              "          await google.colab.output.renderOutput(dataTable, element);\n",
              "          const docLink = document.createElement('div');\n",
              "          docLink.innerHTML = docLinkHtml;\n",
              "          element.appendChild(docLink);\n",
              "        }\n",
              "      </script>\n",
              "    </div>\n",
              "  </div>\n",
              "  "
            ],
            "text/plain": [
              "          0       1       2       3\n",
              "FP     9.00    5.00    3.00    6.00\n",
              "FN    14.00    4.00    2.00    3.00\n",
              "TP    95.00  105.00  107.00  106.00\n",
              "TN   318.00  322.00  324.00  321.00\n",
              "TPR    0.87    0.96    0.98    0.97\n",
              "TNR    0.97    0.98    0.99    0.98\n",
              "PPV    0.91    0.95    0.97    0.95\n",
              "NPV    0.96    0.99    0.99    0.99\n",
              "FPR    0.03    0.02    0.01    0.02\n",
              "FNR    0.13    0.04    0.02    0.03\n",
              "FDR    0.09    0.05    0.03    0.05\n",
              "ACC    0.95    0.98    0.99    0.98"
            ]
          },
          "metadata": {},
          "execution_count": 21
        }
      ]
    },
    {
      "cell_type": "markdown",
      "source": [
        "**Conclusión**\n",
        "\n",
        "El Modelo2 es capaz de diferenciar entre la clase 'Cereal' y 'Otros' con un 95% de accuracy, y diferencia las 3 marcas de cereal con valores de accuracy de 98%, 99% y 98%, respectivamente.\n",
        "\n",
        "El número de falsos positivos y falsos negativos es 46 en comparación con el Modelo1 que en total son 54."
      ],
      "metadata": {
        "id": "ER58hWZLwqMx"
      }
    },
    {
      "cell_type": "markdown",
      "source": [
        "# Modelo 3\n",
        "\n",
        "Este modelo tiene más regularización. Se añadieron varias capas de Dropout al 50% desde la tercera capa convolucional. La arquitectura de la red sigue siendo la misma de AlexNet a excepción de las capas adicionales de Dropout."
      ],
      "metadata": {
        "id": "jHCOa3QbVnDm"
      }
    },
    {
      "cell_type": "code",
      "source": [
        "model = models.Sequential()\n",
        "model.add(layers.Conv2D(32, 11, strides=(4,4), activation='relu', input_shape=(224,224,3)))\n",
        "model.add(layers.MaxPooling2D(3,strides=2))\n",
        "model.add(layers.Conv2D(32, 5, padding='same', activation='relu'))\n",
        "model.add(layers.MaxPooling2D(3,strides=2))\n",
        "model.add(layers.Conv2D(64, 3, padding='same', activation='relu'))\n",
        "model.add(layers.Dropout(0.5))\n",
        "model.add(layers.Conv2D(64, 3, padding='same', activation='relu'))\n",
        "model.add(layers.Dropout(0.5))\n",
        "model.add(layers.Conv2D(256, 3, padding='same', activation='relu'))\n",
        "model.add(layers.Dropout(0.5))\n",
        "model.add(layers.MaxPooling2D(3,strides=2))\n",
        "model.add(layers.Flatten())\n",
        "model.add(layers.Dense(512, activation='relu'))\n",
        "model.add(layers.Dropout(0.5))\n",
        "model.add(layers.Dense(512, activation='relu'))\n",
        "model.add(layers.Dropout(0.5))\n",
        "model.add(layers.Dense(4, activation='softmax'))\n",
        "model.summary()"
      ],
      "metadata": {
        "colab": {
          "base_uri": "https://localhost:8080/"
        },
        "id": "OfTs1vRgVmM3",
        "outputId": "a5202470-92b8-4c80-d6ef-951239d8f229"
      },
      "execution_count": null,
      "outputs": [
        {
          "output_type": "stream",
          "name": "stdout",
          "text": [
            "Model: \"sequential\"\n",
            "_________________________________________________________________\n",
            " Layer (type)                Output Shape              Param #   \n",
            "=================================================================\n",
            " conv2d (Conv2D)             (None, 54, 54, 32)        11648     \n",
            "                                                                 \n",
            " max_pooling2d (MaxPooling2D  (None, 26, 26, 32)       0         \n",
            " )                                                               \n",
            "                                                                 \n",
            " conv2d_1 (Conv2D)           (None, 26, 26, 32)        25632     \n",
            "                                                                 \n",
            " max_pooling2d_1 (MaxPooling  (None, 12, 12, 32)       0         \n",
            " 2D)                                                             \n",
            "                                                                 \n",
            " conv2d_2 (Conv2D)           (None, 12, 12, 64)        18496     \n",
            "                                                                 \n",
            " dropout (Dropout)           (None, 12, 12, 64)        0         \n",
            "                                                                 \n",
            " conv2d_3 (Conv2D)           (None, 12, 12, 64)        36928     \n",
            "                                                                 \n",
            " dropout_1 (Dropout)         (None, 12, 12, 64)        0         \n",
            "                                                                 \n",
            " conv2d_4 (Conv2D)           (None, 12, 12, 256)       147712    \n",
            "                                                                 \n",
            " dropout_2 (Dropout)         (None, 12, 12, 256)       0         \n",
            "                                                                 \n",
            " max_pooling2d_2 (MaxPooling  (None, 5, 5, 256)        0         \n",
            " 2D)                                                             \n",
            "                                                                 \n",
            " flatten (Flatten)           (None, 6400)              0         \n",
            "                                                                 \n",
            " dense (Dense)               (None, 512)               3277312   \n",
            "                                                                 \n",
            " dropout_3 (Dropout)         (None, 512)               0         \n",
            "                                                                 \n",
            " dense_1 (Dense)             (None, 512)               262656    \n",
            "                                                                 \n",
            " dropout_4 (Dropout)         (None, 512)               0         \n",
            "                                                                 \n",
            " dense_2 (Dense)             (None, 4)                 2052      \n",
            "                                                                 \n",
            "=================================================================\n",
            "Total params: 3,782,436\n",
            "Trainable params: 3,782,436\n",
            "Non-trainable params: 0\n",
            "_________________________________________________________________\n"
          ]
        }
      ]
    },
    {
      "cell_type": "code",
      "source": [
        "# Compile model\n",
        "model.compile(optimizer='adam', loss=tf.keras.losses.CategoricalCrossentropy(), metrics=['accuracy'])"
      ],
      "metadata": {
        "id": "rx2jCDAUWj06"
      },
      "execution_count": null,
      "outputs": []
    },
    {
      "cell_type": "markdown",
      "source": [
        "Este modelo fue entrenado por un total de 20 épocas sin los callbacks de reducción de LR ni Early Stopping."
      ],
      "metadata": {
        "id": "eIF-r5l9xn2i"
      }
    },
    {
      "cell_type": "code",
      "source": [
        "# Fit and start training\n",
        "model_3 = model.fit(x_train_norm, y_train, batch_size=60, epochs=20, \n",
        "                    validation_data=(x_val_norm,y_val))"
      ],
      "metadata": {
        "colab": {
          "base_uri": "https://localhost:8080/"
        },
        "id": "X7Y7aJZlWkGP",
        "outputId": "06a96022-1753-40bc-833e-79dfa5fcf81d"
      },
      "execution_count": null,
      "outputs": [
        {
          "output_type": "stream",
          "name": "stdout",
          "text": [
            "Epoch 1/20\n",
            "52/52 [==============================] - 22s 151ms/step - loss: 1.3950 - accuracy: 0.2519 - val_loss: 1.3867 - val_accuracy: 0.2500\n",
            "Epoch 2/20\n",
            "52/52 [==============================] - 3s 66ms/step - loss: 1.3874 - accuracy: 0.2497 - val_loss: 1.3864 - val_accuracy: 0.2500\n",
            "Epoch 3/20\n",
            "52/52 [==============================] - 3s 67ms/step - loss: 1.3752 - accuracy: 0.2555 - val_loss: 1.3865 - val_accuracy: 0.2500\n",
            "Epoch 4/20\n",
            "52/52 [==============================] - 3s 61ms/step - loss: 1.2007 - accuracy: 0.4045 - val_loss: 0.9513 - val_accuracy: 0.5373\n",
            "Epoch 5/20\n",
            "52/52 [==============================] - 3s 61ms/step - loss: 0.8621 - accuracy: 0.6169 - val_loss: 0.7157 - val_accuracy: 0.7636\n",
            "Epoch 6/20\n",
            "52/52 [==============================] - 3s 60ms/step - loss: 0.5245 - accuracy: 0.8065 - val_loss: 0.4930 - val_accuracy: 0.8360\n",
            "Epoch 7/20\n",
            "52/52 [==============================] - 3s 60ms/step - loss: 0.4130 - accuracy: 0.8542 - val_loss: 0.5013 - val_accuracy: 0.7749\n",
            "Epoch 8/20\n",
            "52/52 [==============================] - 3s 63ms/step - loss: 0.3929 - accuracy: 0.8571 - val_loss: 0.3911 - val_accuracy: 0.8756\n",
            "Epoch 9/20\n",
            "52/52 [==============================] - 3s 61ms/step - loss: 0.2997 - accuracy: 0.8955 - val_loss: 0.3075 - val_accuracy: 0.9005\n",
            "Epoch 10/20\n",
            "52/52 [==============================] - 3s 51ms/step - loss: 0.2871 - accuracy: 0.8984 - val_loss: 0.3210 - val_accuracy: 0.8903\n",
            "Epoch 11/20\n",
            "52/52 [==============================] - 3s 51ms/step - loss: 0.2688 - accuracy: 0.8916 - val_loss: 0.3144 - val_accuracy: 0.8971\n",
            "Epoch 12/20\n",
            "52/52 [==============================] - 3s 51ms/step - loss: 0.2615 - accuracy: 0.9045 - val_loss: 0.3145 - val_accuracy: 0.9072\n",
            "Epoch 13/20\n",
            "52/52 [==============================] - 3s 56ms/step - loss: 0.2730 - accuracy: 0.8990 - val_loss: 0.2787 - val_accuracy: 0.9129\n",
            "Epoch 14/20\n",
            "52/52 [==============================] - 3s 50ms/step - loss: 0.2452 - accuracy: 0.9110 - val_loss: 0.2415 - val_accuracy: 0.9174\n",
            "Epoch 15/20\n",
            "52/52 [==============================] - 3s 50ms/step - loss: 0.2135 - accuracy: 0.9218 - val_loss: 0.2350 - val_accuracy: 0.9219\n",
            "Epoch 16/20\n",
            "52/52 [==============================] - 3s 50ms/step - loss: 0.2189 - accuracy: 0.9182 - val_loss: 0.2589 - val_accuracy: 0.9129\n",
            "Epoch 17/20\n",
            "52/52 [==============================] - 3s 51ms/step - loss: 0.1976 - accuracy: 0.9237 - val_loss: 0.2037 - val_accuracy: 0.9310\n",
            "Epoch 18/20\n",
            "52/52 [==============================] - 3s 56ms/step - loss: 0.2036 - accuracy: 0.9256 - val_loss: 0.1897 - val_accuracy: 0.9333\n",
            "Epoch 19/20\n",
            "52/52 [==============================] - 3s 51ms/step - loss: 0.2048 - accuracy: 0.9244 - val_loss: 0.2456 - val_accuracy: 0.9095\n",
            "Epoch 20/20\n",
            "52/52 [==============================] - 3s 50ms/step - loss: 0.2026 - accuracy: 0.9273 - val_loss: 0.2252 - val_accuracy: 0.9287\n"
          ]
        }
      ]
    },
    {
      "cell_type": "code",
      "source": [
        "# Gráfica Model Accuracy \n",
        "plt.plot(model_3.history['accuracy'])\n",
        "plt.plot(model_3.history['val_accuracy'])\n",
        "plt.title('model accuracy')\n",
        "plt.ylabel('accuracy')\n",
        "plt.xlabel('epoch')\n",
        "plt.legend(['train', 'val'], loc='upper left')\n",
        "plt.show()\n",
        "# Gráfica Model Loss\n",
        "plt.plot(model_3.history['loss'])\n",
        "plt.plot(model_3.history['val_loss'])\n",
        "plt.title('model loss')\n",
        "plt.ylabel('loss')\n",
        "plt.xlabel('epoch')\n",
        "plt.legend(['train', 'val'], loc='upper left')\n",
        "plt.show()"
      ],
      "metadata": {
        "colab": {
          "base_uri": "https://localhost:8080/",
          "height": 573
        },
        "id": "UDcSxhGpWo-n",
        "outputId": "03160b17-5400-4ada-91b5-4353f2b0653b"
      },
      "execution_count": null,
      "outputs": [
        {
          "output_type": "display_data",
          "data": {
            "image/png": "[encoded data removed]",
            "text/plain": [
              "<Figure size 432x288 with 1 Axes>"
            ]
          },
          "metadata": {
            "needs_background": "light"
          }
        },
        {
          "output_type": "display_data",
          "data": {
            "image/png": "[encoded data removed]",
            "text/plain": [
              "<Figure size 432x288 with 1 Axes>"
            ]
          },
          "metadata": {
            "needs_background": "light"
          }
        }
      ]
    },
    {
      "cell_type": "code",
      "source": [
        "# Load test data\n",
        "x_test_norm = np.load(os.path.join(test_path,'x_test_norm.npy'))\n",
        "y_test = np.load(os.path.join(test_path,'y_test_enc.npy'),allow_pickle=True)"
      ],
      "metadata": {
        "id": "ZIEdPxjvXRcJ"
      },
      "execution_count": null,
      "outputs": []
    },
    {
      "cell_type": "code",
      "source": [
        "# Compiled model to evaluate with test data\n",
        "model.evaluate(x_test_norm, y_test)"
      ],
      "metadata": {
        "colab": {
          "base_uri": "https://localhost:8080/"
        },
        "id": "AvPire5kXQmu",
        "outputId": "6709acc0-c8ad-4785-8946-309166515677"
      },
      "execution_count": null,
      "outputs": [
        {
          "output_type": "stream",
          "name": "stdout",
          "text": [
            "14/14 [==============================] - 1s 19ms/step - loss: 0.2420 - accuracy: 0.9151\n"
          ]
        },
        {
          "output_type": "execute_result",
          "data": {
            "text/plain": [
              "[0.24196051061153412, 0.9151375889778137]"
            ]
          },
          "metadata": {},
          "execution_count": 12
        }
      ]
    },
    {
      "cell_type": "markdown",
      "source": [
        "Se obtuvo un valor de accuracy para los datos de prueba de 91.51% y un loss de 24.20%. Valores de rendimiento bajo comparados con los Modelos 1 y 2."
      ],
      "metadata": {
        "id": "w2oGKtuhxw-O"
      }
    },
    {
      "cell_type": "code",
      "source": [
        "# Model save\n",
        "model.save(os.path.join(models_path,'model3_91_51.h5'))"
      ],
      "metadata": {
        "id": "8dg2atzBXnBk"
      },
      "execution_count": null,
      "outputs": []
    },
    {
      "cell_type": "code",
      "source": [
        "tf.keras.backend.clear_session"
      ],
      "metadata": {
        "colab": {
          "base_uri": "https://localhost:8080/"
        },
        "id": "roMW409YYC45",
        "outputId": "8d688533-8a40-4e17-8e6f-d965d4743d2c"
      },
      "execution_count": null,
      "outputs": [
        {
          "output_type": "execute_result",
          "data": {
            "text/plain": [
              "<function keras.backend.clear_session>"
            ]
          },
          "metadata": {},
          "execution_count": 14
        }
      ]
    },
    {
      "cell_type": "code",
      "source": [
        "#load the model\n",
        "model_3 = tf.keras.models.load_model(os.path.join(models_path, 'model3_91_51.h5'))"
      ],
      "metadata": {
        "id": "2wNd6TXUHzWV"
      },
      "execution_count": null,
      "outputs": []
    },
    {
      "cell_type": "markdown",
      "source": [
        "Matriz de Confusión"
      ],
      "metadata": {
        "id": "2VGEGQAeHzWV"
      }
    },
    {
      "cell_type": "code",
      "source": [
        "preds = model_3.predict(x_test_norm)\n",
        "cm = confusion_matrix(y_test.argmax(axis=1), preds.argmax(axis=1))\n",
        "labels = [\"0\", \"1\", \"2\", \"3\"]\n",
        "disp = ConfusionMatrixDisplay(confusion_matrix=cm, display_labels=labels)\n",
        "disp.plot() "
      ],
      "metadata": {
        "colab": {
          "base_uri": "https://localhost:8080/",
          "height": 296
        },
        "outputId": "f2e1aadb-0c6c-4b59-f4d2-7eb4fd697475",
        "id": "hLlAWMSjHzWW"
      },
      "execution_count": null,
      "outputs": [
        {
          "output_type": "execute_result",
          "data": {
            "text/plain": [
              "<sklearn.metrics._plot.confusion_matrix.ConfusionMatrixDisplay at 0x7f75d42a7c90>"
            ]
          },
          "metadata": {},
          "execution_count": 23
        },
        {
          "output_type": "display_data",
          "data": {
            "image/png": "[encoded data removed]",
            "text/plain": [
              "<Figure size 432x288 with 2 Axes>"
            ]
          },
          "metadata": {
            "needs_background": "light"
          }
        }
      ]
    },
    {
      "cell_type": "code",
      "source": [
        "df = pd.DataFrame(data=cm, index=[\"0\", \"1\", \"2\", \"3\"], columns=[\"0\", \"1\", \"2\", \"3\"])\n",
        "\n",
        "FP = cm.sum(axis=0) - np.diag(cm)  \n",
        "FN = cm.sum(axis=1) - np.diag(cm)\n",
        "TP = np.diag(cm)\n",
        "TN = df.values.sum() - (FP + FN + TP) # necesito la cm como dataframe\n",
        "\n",
        "# Sensitivity, hit rate, recall, or true positive rate\n",
        "TPR = TP/(TP+FN)\n",
        "# Specificity or true negative rate\n",
        "TNR = TN/(TN+FP) \n",
        "# Precision or positive predictive value\n",
        "PPV = TP/(TP+FP)\n",
        "# Negative predictive value\n",
        "NPV = TN/(TN+FN)\n",
        "# Fall out or false positive rate\n",
        "FPR = FP/(FP+TN)\n",
        "# False negative rate\n",
        "FNR = FN/(TP+FN)\n",
        "# False discovery rate\n",
        "FDR = FP/(TP+FP)\n",
        "\n",
        "# Overall accuracy\n",
        "ACC = (TP+TN)/(TP+FP+FN+TN)"
      ],
      "metadata": {
        "id": "-YTLFkveHzWW"
      },
      "execution_count": null,
      "outputs": []
    },
    {
      "cell_type": "code",
      "source": [
        "metrics = np.array([FP,\n",
        "          FN,\n",
        "          TP,\n",
        "          TN,\n",
        "          TPR,\n",
        "          TNR,\n",
        "          PPV,\n",
        "          NPV,\n",
        "          FPR,\n",
        "          FNR,\n",
        "          FDR,\n",
        "          ACC])"
      ],
      "metadata": {
        "id": "BszkKuhiHzWW"
      },
      "execution_count": null,
      "outputs": []
    },
    {
      "cell_type": "code",
      "source": [
        "df2 = pd.DataFrame(data=np.round(metrics,2), index=[\"FP\", \"FN\", \"TP\", \"TN\", \"TPR\", \"TNR\", \"PPV\", \"NPV\", \"FPR\", \"FNR\", \"FDR\", \"ACC\"],\n",
        "                   columns=[\"0\", \"1\", \"2\", \"3\"])"
      ],
      "metadata": {
        "id": "mCgvUq92HzWW"
      },
      "execution_count": null,
      "outputs": []
    },
    {
      "cell_type": "code",
      "source": [
        "df2"
      ],
      "metadata": {
        "colab": {
          "base_uri": "https://localhost:8080/",
          "height": 426
        },
        "outputId": "9b69ea8f-0fdf-4432-8ba0-4779be4b6cee",
        "id": "_IwKHQYVHzWW"
      },
      "execution_count": null,
      "outputs": [
        {
          "output_type": "execute_result",
          "data": {
            "text/html": [
              "\n",
              "  <div id=\"df-a35b3cbc-c6b4-4bd6-a2f6-9ebba69155d7\">\n",
              "    <div class=\"colab-df-container\">\n",
              "      <div>\n",
              "<style scoped>\n",
              "    .dataframe tbody tr th:only-of-type {\n",
              "        vertical-align: middle;\n",
              "    }\n",
              "\n",
              "    .dataframe tbody tr th {\n",
              "        vertical-align: top;\n",
              "    }\n",
              "\n",
              "    .dataframe thead th {\n",
              "        text-align: right;\n",
              "    }\n",
              "</style>\n",
              "<table border=\"1\" class=\"dataframe\">\n",
              "  <thead>\n",
              "    <tr style=\"text-align: right;\">\n",
              "      <th></th>\n",
              "      <th>0</th>\n",
              "      <th>1</th>\n",
              "      <th>2</th>\n",
              "      <th>3</th>\n",
              "    </tr>\n",
              "  </thead>\n",
              "  <tbody>\n",
              "    <tr>\n",
              "      <th>FP</th>\n",
              "      <td>12.00</td>\n",
              "      <td>5.00</td>\n",
              "      <td>15.00</td>\n",
              "      <td>5.00</td>\n",
              "    </tr>\n",
              "    <tr>\n",
              "      <th>FN</th>\n",
              "      <td>20.00</td>\n",
              "      <td>9.00</td>\n",
              "      <td>2.00</td>\n",
              "      <td>6.00</td>\n",
              "    </tr>\n",
              "    <tr>\n",
              "      <th>TP</th>\n",
              "      <td>89.00</td>\n",
              "      <td>100.00</td>\n",
              "      <td>107.00</td>\n",
              "      <td>103.00</td>\n",
              "    </tr>\n",
              "    <tr>\n",
              "      <th>TN</th>\n",
              "      <td>315.00</td>\n",
              "      <td>322.00</td>\n",
              "      <td>312.00</td>\n",
              "      <td>322.00</td>\n",
              "    </tr>\n",
              "    <tr>\n",
              "      <th>TPR</th>\n",
              "      <td>0.82</td>\n",
              "      <td>0.92</td>\n",
              "      <td>0.98</td>\n",
              "      <td>0.94</td>\n",
              "    </tr>\n",
              "    <tr>\n",
              "      <th>TNR</th>\n",
              "      <td>0.96</td>\n",
              "      <td>0.98</td>\n",
              "      <td>0.95</td>\n",
              "      <td>0.98</td>\n",
              "    </tr>\n",
              "    <tr>\n",
              "      <th>PPV</th>\n",
              "      <td>0.88</td>\n",
              "      <td>0.95</td>\n",
              "      <td>0.88</td>\n",
              "      <td>0.95</td>\n",
              "    </tr>\n",
              "    <tr>\n",
              "      <th>NPV</th>\n",
              "      <td>0.94</td>\n",
              "      <td>0.97</td>\n",
              "      <td>0.99</td>\n",
              "      <td>0.98</td>\n",
              "    </tr>\n",
              "    <tr>\n",
              "      <th>FPR</th>\n",
              "      <td>0.04</td>\n",
              "      <td>0.02</td>\n",
              "      <td>0.05</td>\n",
              "      <td>0.02</td>\n",
              "    </tr>\n",
              "    <tr>\n",
              "      <th>FNR</th>\n",
              "      <td>0.18</td>\n",
              "      <td>0.08</td>\n",
              "      <td>0.02</td>\n",
              "      <td>0.06</td>\n",
              "    </tr>\n",
              "    <tr>\n",
              "      <th>FDR</th>\n",
              "      <td>0.12</td>\n",
              "      <td>0.05</td>\n",
              "      <td>0.12</td>\n",
              "      <td>0.05</td>\n",
              "    </tr>\n",
              "    <tr>\n",
              "      <th>ACC</th>\n",
              "      <td>0.93</td>\n",
              "      <td>0.97</td>\n",
              "      <td>0.96</td>\n",
              "      <td>0.97</td>\n",
              "    </tr>\n",
              "  </tbody>\n",
              "</table>\n",
              "</div>\n",
              "      <button class=\"colab-df-convert\" onclick=\"convertToInteractive('df-a35b3cbc-c6b4-4bd6-a2f6-9ebba69155d7')\"\n",
              "              title=\"Convert this dataframe to an interactive table.\"\n",
              "              style=\"display:none;\">\n",
              "        \n",
              "  <svg xmlns=\"http://www.w3.org/2000/svg\" height=\"24px\"viewBox=\"0 0 24 24\"\n",
              "       width=\"24px\">\n",
              "    <path d=\"M0 0h24v24H0V0z\" fill=\"none\"/>\n",
              "    <path d=\"M18.56 5.44l.94 2.06.94-2.06 2.06-.94-2.06-.94-.94-2.06-.94 2.06-2.06.94zm-11 1L8.5 8.5l.94-2.06 2.06-.94-2.06-.94L8.5 2.5l-.94 2.06-2.06.94zm10 10l.94 2.06.94-2.06 2.06-.94-2.06-.94-.94-2.06-.94 2.06-2.06.94z\"/><path d=\"M17.41 7.96l-1.37-1.37c-.4-.4-.92-.59-1.43-.59-.52 0-1.04.2-1.43.59L10.3 9.45l-7.72 7.72c-.78.78-.78 2.05 0 2.83L4 21.41c.39.39.9.59 1.41.59.51 0 1.02-.2 1.41-.59l7.78-7.78 2.81-2.81c.8-.78.8-2.07 0-2.86zM5.41 20L4 18.59l7.72-7.72 1.47 1.35L5.41 20z\"/>\n",
              "  </svg>\n",
              "      </button>\n",
              "      \n",
              "  <style>\n",
              "    .colab-df-container {\n",
              "      display:flex;\n",
              "      flex-wrap:wrap;\n",
              "      gap: 12px;\n",
              "    }\n",
              "\n",
              "    .colab-df-convert {\n",
              "      background-color: #E8F0FE;\n",
              "      border: none;\n",
              "      border-radius: 50%;\n",
              "      cursor: pointer;\n",
              "      display: none;\n",
              "      fill: #1967D2;\n",
              "      height: 32px;\n",
              "      padding: 0 0 0 0;\n",
              "      width: 32px;\n",
              "    }\n",
              "\n",
              "    .colab-df-convert:hover {\n",
              "      background-color: #E2EBFA;\n",
              "      box-shadow: 0px 1px 2px rgba(60, 64, 67, 0.3), 0px 1px 3px 1px rgba(60, 64, 67, 0.15);\n",
              "      fill: #174EA6;\n",
              "    }\n",
              "\n",
              "    [theme=dark] .colab-df-convert {\n",
              "      background-color: #3B4455;\n",
              "      fill: #D2E3FC;\n",
              "    }\n",
              "\n",
              "    [theme=dark] .colab-df-convert:hover {\n",
              "      background-color: #434B5C;\n",
              "      box-shadow: 0px 1px 3px 1px rgba(0, 0, 0, 0.15);\n",
              "      filter: drop-shadow(0px 1px 2px rgba(0, 0, 0, 0.3));\n",
              "      fill: #FFFFFF;\n",
              "    }\n",
              "  </style>\n",
              "\n",
              "      <script>\n",
              "        const buttonEl =\n",
              "          document.querySelector('#df-a35b3cbc-c6b4-4bd6-a2f6-9ebba69155d7 button.colab-df-convert');\n",
              "        buttonEl.style.display =\n",
              "          google.colab.kernel.accessAllowed ? 'block' : 'none';\n",
              "\n",
              "        async function convertToInteractive(key) {\n",
              "          const element = document.querySelector('#df-a35b3cbc-c6b4-4bd6-a2f6-9ebba69155d7');\n",
              "          const dataTable =\n",
              "            await google.colab.kernel.invokeFunction('convertToInteractive',\n",
              "                                                     [key], {});\n",
              "          if (!dataTable) return;\n",
              "\n",
              "          const docLinkHtml = 'Like what you see? Visit the ' +\n",
              "            '<a target=\"_blank\" href=https://colab.research.google.com/notebooks/data_table.ipynb>data table notebook</a>'\n",
              "            + ' to learn more about interactive tables.';\n",
              "          element.innerHTML = '';\n",
              "          dataTable['output_type'] = 'display_data';\n",
              "          await google.colab.output.renderOutput(dataTable, element);\n",
              "          const docLink = document.createElement('div');\n",
              "          docLink.innerHTML = docLinkHtml;\n",
              "          element.appendChild(docLink);\n",
              "        }\n",
              "      </script>\n",
              "    </div>\n",
              "  </div>\n",
              "  "
            ],
            "text/plain": [
              "          0       1       2       3\n",
              "FP    12.00    5.00   15.00    5.00\n",
              "FN    20.00    9.00    2.00    6.00\n",
              "TP    89.00  100.00  107.00  103.00\n",
              "TN   315.00  322.00  312.00  322.00\n",
              "TPR    0.82    0.92    0.98    0.94\n",
              "TNR    0.96    0.98    0.95    0.98\n",
              "PPV    0.88    0.95    0.88    0.95\n",
              "NPV    0.94    0.97    0.99    0.98\n",
              "FPR    0.04    0.02    0.05    0.02\n",
              "FNR    0.18    0.08    0.02    0.06\n",
              "FDR    0.12    0.05    0.12    0.05\n",
              "ACC    0.93    0.97    0.96    0.97"
            ]
          },
          "metadata": {},
          "execution_count": 27
        }
      ]
    },
    {
      "cell_type": "markdown",
      "source": [
        "**Conclusión**\n",
        "\n",
        "A partir de la matriz de confusión se puede observar que el número de falsos positivos y negativos aumentó drásticamente a 69. La categoría 'Otros' es clasificada por la red con un porcentaje de accuracy del 93% y la capacidad de diferenciación entre las 3 marcas de cereales disminuyó en comparación a los anteriores modelos: con valores de accuracy del 97%, 96% y 97%, respectivamente."
      ],
      "metadata": {
        "id": "rWPTD8iPx8QZ"
      }
    },
    {
      "cell_type": "markdown",
      "source": [
        "# Modelo 4\n",
        "\n",
        "En este modelo se conserva la misma arquitectura del Modelo3. La diferencia se encuentra en la implementación de Early Stopping y de la reducción del Learning Rate en casos en los que el valor de loss con los datos de validación no cambie después de 8 y 4 épocas consecutivas, respectivamente.\n",
        "\n",
        "También, el entrenamiento se realizó durante 30 épocas."
      ],
      "metadata": {
        "id": "1YiDFTNjX-Rg"
      }
    },
    {
      "cell_type": "code",
      "source": [
        "model = models.Sequential()\n",
        "model.add(layers.Conv2D(32, 11, strides=(4,4), activation='relu', input_shape=(224,224,3)))\n",
        "model.add(layers.MaxPooling2D(3,strides=2))\n",
        "model.add(layers.Conv2D(32, 5, padding='same', activation='relu'))\n",
        "model.add(layers.MaxPooling2D(3,strides=2))\n",
        "model.add(layers.Conv2D(64, 3, padding='same', activation='relu'))\n",
        "model.add(layers.Dropout(0.5))\n",
        "model.add(layers.Conv2D(64, 3, padding='same', activation='relu'))\n",
        "model.add(layers.Dropout(0.5))\n",
        "model.add(layers.Conv2D(256, 3, padding='same', activation='relu'))\n",
        "model.add(layers.Dropout(0.5))\n",
        "model.add(layers.MaxPooling2D(3,strides=2))\n",
        "model.add(layers.Flatten())\n",
        "model.add(layers.Dense(512, activation='relu'))\n",
        "model.add(layers.Dropout(0.5))\n",
        "model.add(layers.Dense(512, activation='relu'))\n",
        "model.add(layers.Dropout(0.5))\n",
        "model.add(layers.Dense(4, activation='softmax'))\n",
        "model.summary()"
      ],
      "metadata": {
        "colab": {
          "base_uri": "https://localhost:8080/"
        },
        "outputId": "8d747ef7-19c4-4dd2-dd3a-b46af298ba47",
        "id": "PjGIX37SX_q3"
      },
      "execution_count": null,
      "outputs": [
        {
          "output_type": "stream",
          "name": "stdout",
          "text": [
            "Model: \"sequential\"\n",
            "_________________________________________________________________\n",
            " Layer (type)                Output Shape              Param #   \n",
            "=================================================================\n",
            " conv2d (Conv2D)             (None, 54, 54, 32)        11648     \n",
            "                                                                 \n",
            " max_pooling2d (MaxPooling2D  (None, 26, 26, 32)       0         \n",
            " )                                                               \n",
            "                                                                 \n",
            " conv2d_1 (Conv2D)           (None, 26, 26, 32)        25632     \n",
            "                                                                 \n",
            " max_pooling2d_1 (MaxPooling  (None, 12, 12, 32)       0         \n",
            " 2D)                                                             \n",
            "                                                                 \n",
            " conv2d_2 (Conv2D)           (None, 12, 12, 64)        18496     \n",
            "                                                                 \n",
            " dropout (Dropout)           (None, 12, 12, 64)        0         \n",
            "                                                                 \n",
            " conv2d_3 (Conv2D)           (None, 12, 12, 64)        36928     \n",
            "                                                                 \n",
            " dropout_1 (Dropout)         (None, 12, 12, 64)        0         \n",
            "                                                                 \n",
            " conv2d_4 (Conv2D)           (None, 12, 12, 256)       147712    \n",
            "                                                                 \n",
            " dropout_2 (Dropout)         (None, 12, 12, 256)       0         \n",
            "                                                                 \n",
            " max_pooling2d_2 (MaxPooling  (None, 5, 5, 256)        0         \n",
            " 2D)                                                             \n",
            "                                                                 \n",
            " flatten (Flatten)           (None, 6400)              0         \n",
            "                                                                 \n",
            " dense (Dense)               (None, 512)               3277312   \n",
            "                                                                 \n",
            " dropout_3 (Dropout)         (None, 512)               0         \n",
            "                                                                 \n",
            " dense_1 (Dense)             (None, 512)               262656    \n",
            "                                                                 \n",
            " dropout_4 (Dropout)         (None, 512)               0         \n",
            "                                                                 \n",
            " dense_2 (Dense)             (None, 4)                 2052      \n",
            "                                                                 \n",
            "=================================================================\n",
            "Total params: 3,782,436\n",
            "Trainable params: 3,782,436\n",
            "Non-trainable params: 0\n",
            "_________________________________________________________________\n"
          ]
        }
      ]
    },
    {
      "cell_type": "code",
      "source": [
        "# Compile model\n",
        "model.compile(optimizer='adam', loss=tf.keras.losses.CategoricalCrossentropy(), metrics=['accuracy'])"
      ],
      "metadata": {
        "id": "_gR_GPoiX_q3"
      },
      "execution_count": null,
      "outputs": []
    },
    {
      "cell_type": "code",
      "source": [
        "# Callbacks\n",
        "early_stop = EarlyStopping(monitor='val_loss', patience=8, verbose=1, min_delta=1e-4)  \n",
        "reduce_lr = ReduceLROnPlateau(monitor='val_loss', factor=0.1, patience=4, verbose=1, min_delta=1e-4)  \n",
        "callbacks_list = [early_stop, reduce_lr]  "
      ],
      "metadata": {
        "id": "CfwxT-CcYS65"
      },
      "execution_count": null,
      "outputs": []
    },
    {
      "cell_type": "code",
      "source": [
        "# Fit and start training\n",
        "model_4 = model.fit(x_train_norm, y_train, batch_size=60, epochs=30, \n",
        "                    validation_data=(x_val_norm,y_val), callbacks=callbacks_list)"
      ],
      "metadata": {
        "id": "zXrD7gMNX_q3",
        "colab": {
          "base_uri": "https://localhost:8080/"
        },
        "outputId": "c5c3650d-31b6-44f6-c89c-d279e143b4a1"
      },
      "execution_count": null,
      "outputs": [
        {
          "output_type": "stream",
          "name": "stdout",
          "text": [
            "Epoch 1/30\n",
            "52/52 [==============================] - 7s 68ms/step - loss: 1.3256 - accuracy: 0.3081 - val_loss: 1.2288 - val_accuracy: 0.4423 - lr: 0.0010\n",
            "Epoch 2/30\n",
            "52/52 [==============================] - 3s 49ms/step - loss: 1.0208 - accuracy: 0.5539 - val_loss: 1.2027 - val_accuracy: 0.3824 - lr: 0.0010\n",
            "Epoch 3/30\n",
            "52/52 [==============================] - 3s 48ms/step - loss: 0.7002 - accuracy: 0.7107 - val_loss: 1.0345 - val_accuracy: 0.5124 - lr: 0.0010\n",
            "Epoch 4/30\n",
            "52/52 [==============================] - 3s 49ms/step - loss: 0.4960 - accuracy: 0.8179 - val_loss: 0.8722 - val_accuracy: 0.6143 - lr: 0.0010\n",
            "Epoch 5/30\n",
            "52/52 [==============================] - 3s 49ms/step - loss: 0.4206 - accuracy: 0.8455 - val_loss: 0.4235 - val_accuracy: 0.8473 - lr: 0.0010\n",
            "Epoch 6/30\n",
            "52/52 [==============================] - 3s 54ms/step - loss: 0.3554 - accuracy: 0.8682 - val_loss: 0.3298 - val_accuracy: 0.8857 - lr: 0.0010\n",
            "Epoch 7/30\n",
            "52/52 [==============================] - 3s 49ms/step - loss: 0.2987 - accuracy: 0.8873 - val_loss: 0.3924 - val_accuracy: 0.8586 - lr: 0.0010\n",
            "Epoch 8/30\n",
            "52/52 [==============================] - 3s 49ms/step - loss: 0.3122 - accuracy: 0.8782 - val_loss: 0.3127 - val_accuracy: 0.8891 - lr: 0.0010\n",
            "Epoch 9/30\n",
            "52/52 [==============================] - 3s 49ms/step - loss: 0.2549 - accuracy: 0.9058 - val_loss: 0.2759 - val_accuracy: 0.9027 - lr: 0.0010\n",
            "Epoch 10/30\n",
            "52/52 [==============================] - 3s 49ms/step - loss: 0.2115 - accuracy: 0.9208 - val_loss: 0.2185 - val_accuracy: 0.9321 - lr: 0.0010\n",
            "Epoch 11/30\n",
            "52/52 [==============================] - 2s 48ms/step - loss: 0.1777 - accuracy: 0.9305 - val_loss: 0.2144 - val_accuracy: 0.9287 - lr: 0.0010\n",
            "Epoch 12/30\n",
            "52/52 [==============================] - 2s 48ms/step - loss: 0.1852 - accuracy: 0.9312 - val_loss: 0.2606 - val_accuracy: 0.9061 - lr: 0.0010\n",
            "Epoch 13/30\n",
            "52/52 [==============================] - 3s 49ms/step - loss: 0.1661 - accuracy: 0.9370 - val_loss: 0.2284 - val_accuracy: 0.9095 - lr: 0.0010\n",
            "Epoch 14/30\n",
            "52/52 [==============================] - 3s 49ms/step - loss: 0.1708 - accuracy: 0.9351 - val_loss: 0.1990 - val_accuracy: 0.9310 - lr: 0.0010\n",
            "Epoch 15/30\n",
            "52/52 [==============================] - 3s 49ms/step - loss: 0.1650 - accuracy: 0.9325 - val_loss: 0.2022 - val_accuracy: 0.9412 - lr: 0.0010\n",
            "Epoch 16/30\n",
            "52/52 [==============================] - 3s 49ms/step - loss: 0.1549 - accuracy: 0.9383 - val_loss: 0.1687 - val_accuracy: 0.9491 - lr: 0.0010\n",
            "Epoch 17/30\n",
            "52/52 [==============================] - 3s 49ms/step - loss: 0.1478 - accuracy: 0.9468 - val_loss: 0.1836 - val_accuracy: 0.9423 - lr: 0.0010\n",
            "Epoch 18/30\n",
            "52/52 [==============================] - 3s 49ms/step - loss: 0.1452 - accuracy: 0.9474 - val_loss: 0.1641 - val_accuracy: 0.9457 - lr: 0.0010\n",
            "Epoch 19/30\n",
            "52/52 [==============================] - 3s 48ms/step - loss: 0.1274 - accuracy: 0.9526 - val_loss: 0.1582 - val_accuracy: 0.9378 - lr: 0.0010\n",
            "Epoch 20/30\n",
            "52/52 [==============================] - 3s 49ms/step - loss: 0.1168 - accuracy: 0.9584 - val_loss: 0.1605 - val_accuracy: 0.9367 - lr: 0.0010\n",
            "Epoch 21/30\n",
            "52/52 [==============================] - 3s 49ms/step - loss: 0.1142 - accuracy: 0.9584 - val_loss: 0.1622 - val_accuracy: 0.9491 - lr: 0.0010\n",
            "Epoch 22/30\n",
            "52/52 [==============================] - 3s 49ms/step - loss: 0.1058 - accuracy: 0.9610 - val_loss: 0.1760 - val_accuracy: 0.9423 - lr: 0.0010\n",
            "Epoch 23/30\n",
            "51/52 [============================>.] - ETA: 0s - loss: 0.1211 - accuracy: 0.9529\n",
            "Epoch 23: ReduceLROnPlateau reducing learning rate to 0.00010000000474974513.\n",
            "52/52 [==============================] - 3s 49ms/step - loss: 0.1207 - accuracy: 0.9529 - val_loss: 0.2270 - val_accuracy: 0.9186 - lr: 0.0010\n",
            "Epoch 24/30\n",
            "52/52 [==============================] - 3s 49ms/step - loss: 0.0910 - accuracy: 0.9708 - val_loss: 0.1346 - val_accuracy: 0.9514 - lr: 1.0000e-04\n",
            "Epoch 25/30\n",
            "52/52 [==============================] - 3s 49ms/step - loss: 0.0651 - accuracy: 0.9747 - val_loss: 0.1297 - val_accuracy: 0.9548 - lr: 1.0000e-04\n",
            "Epoch 26/30\n",
            "52/52 [==============================] - 3s 49ms/step - loss: 0.0605 - accuracy: 0.9769 - val_loss: 0.1268 - val_accuracy: 0.9548 - lr: 1.0000e-04\n",
            "Epoch 27/30\n",
            "52/52 [==============================] - 3s 54ms/step - loss: 0.0518 - accuracy: 0.9808 - val_loss: 0.1257 - val_accuracy: 0.9536 - lr: 1.0000e-04\n",
            "Epoch 28/30\n",
            "52/52 [==============================] - 3s 49ms/step - loss: 0.0570 - accuracy: 0.9802 - val_loss: 0.1249 - val_accuracy: 0.9570 - lr: 1.0000e-04\n",
            "Epoch 29/30\n",
            "52/52 [==============================] - 3s 49ms/step - loss: 0.0498 - accuracy: 0.9795 - val_loss: 0.1258 - val_accuracy: 0.9559 - lr: 1.0000e-04\n",
            "Epoch 30/30\n",
            "52/52 [==============================] - 3s 49ms/step - loss: 0.0459 - accuracy: 0.9838 - val_loss: 0.1252 - val_accuracy: 0.9581 - lr: 1.0000e-04\n"
          ]
        }
      ]
    },
    {
      "cell_type": "code",
      "source": [
        "# Gráfica Model Accuracy \n",
        "plt.plot(model_4.history['accuracy'])\n",
        "plt.plot(model_4.history['val_accuracy'])\n",
        "plt.title('model accuracy')\n",
        "plt.ylabel('accuracy')\n",
        "plt.xlabel('epoch')\n",
        "plt.legend(['train', 'val'], loc='upper left')\n",
        "plt.show()\n",
        "# Gráfica Model Loss\n",
        "plt.plot(model_4.history['loss'])\n",
        "plt.plot(model_4.history['val_loss'])\n",
        "plt.title('model loss')\n",
        "plt.ylabel('loss')\n",
        "plt.xlabel('epoch')\n",
        "plt.legend(['train', 'val'], loc='upper left')\n",
        "plt.show()"
      ],
      "metadata": {
        "colab": {
          "base_uri": "https://localhost:8080/",
          "height": 573
        },
        "outputId": "84a3cd4d-a62b-43f2-d362-34f04ec905ac",
        "id": "bAUStH5XX_q4"
      },
      "execution_count": null,
      "outputs": [
        {
          "output_type": "display_data",
          "data": {
            "image/png": "[encoded data removed]",
            "text/plain": [
              "<Figure size 432x288 with 1 Axes>"
            ]
          },
          "metadata": {
            "needs_background": "light"
          }
        },
        {
          "output_type": "display_data",
          "data": {
            "image/png": "[encoded data removed]",
            "text/plain": [
              "<Figure size 432x288 with 1 Axes>"
            ]
          },
          "metadata": {
            "needs_background": "light"
          }
        }
      ]
    },
    {
      "cell_type": "code",
      "source": [
        "# Load test data\n",
        "x_test_norm = np.load(os.path.join(test_path,'x_test_norm.npy'))\n",
        "y_test = np.load(os.path.join(test_path,'y_test_enc.npy'),allow_pickle=True)"
      ],
      "metadata": {
        "id": "9PnwVzU-X_q4"
      },
      "execution_count": null,
      "outputs": []
    },
    {
      "cell_type": "code",
      "source": [
        "# Compiled model to evaluate with test data\n",
        "model.evaluate(x_test_norm, y_test)"
      ],
      "metadata": {
        "colab": {
          "base_uri": "https://localhost:8080/"
        },
        "outputId": "9f996228-de32-4c84-e6e6-8447db082fc0",
        "id": "3QofSDmbX_q4"
      },
      "execution_count": null,
      "outputs": [
        {
          "output_type": "stream",
          "name": "stdout",
          "text": [
            "14/14 [==============================] - 0s 18ms/step - loss: 0.1170 - accuracy: 0.9564\n"
          ]
        },
        {
          "output_type": "execute_result",
          "data": {
            "text/plain": [
              "[0.11701086908578873, 0.9564220309257507]"
            ]
          },
          "metadata": {},
          "execution_count": 35
        }
      ]
    },
    {
      "cell_type": "markdown",
      "source": [
        "Se obtuvo un valor de accuracy para los datos de prueba del 95.64% y un loss del 11.70%. Valores que superan a los modelos anteriormente implementados. "
      ],
      "metadata": {
        "id": "oRCfZ2nb2llb"
      }
    },
    {
      "cell_type": "code",
      "source": [
        "# Model save\n",
        "model.save(os.path.join(models_path,'model4_95_64.h5'))"
      ],
      "metadata": {
        "id": "qtWIvTD4X_q4"
      },
      "execution_count": null,
      "outputs": []
    },
    {
      "cell_type": "code",
      "source": [
        "#load the model\n",
        "model_4 = tf.keras.models.load_model(os.path.join(models_path, 'model4_95_64.h5'))"
      ],
      "metadata": {
        "id": "exHuQJJCIPKb"
      },
      "execution_count": null,
      "outputs": []
    },
    {
      "cell_type": "markdown",
      "source": [
        "Matriz de Confusión"
      ],
      "metadata": {
        "id": "fktKwJdFIPKc"
      }
    },
    {
      "cell_type": "code",
      "source": [
        "preds = model_4.predict(x_test_norm)\n",
        "cm = confusion_matrix(y_test.argmax(axis=1), preds.argmax(axis=1))\n",
        "labels = [\"0\", \"1\", \"2\", \"3\"]\n",
        "disp = ConfusionMatrixDisplay(confusion_matrix=cm, display_labels=labels)\n",
        "disp.plot() "
      ],
      "metadata": {
        "colab": {
          "base_uri": "https://localhost:8080/",
          "height": 296
        },
        "outputId": "0fe67164-8c04-47b4-dc28-fe5be4504bf1",
        "id": "yFf5kjJnIPKc"
      },
      "execution_count": null,
      "outputs": [
        {
          "output_type": "execute_result",
          "data": {
            "text/plain": [
              "<sklearn.metrics._plot.confusion_matrix.ConfusionMatrixDisplay at 0x7f75d3d370d0>"
            ]
          },
          "metadata": {},
          "execution_count": 38
        },
        {
          "output_type": "display_data",
          "data": {
            "image/png": "[encoded data removed]",
            "text/plain": [
              "<Figure size 432x288 with 2 Axes>"
            ]
          },
          "metadata": {
            "needs_background": "light"
          }
        }
      ]
    },
    {
      "cell_type": "code",
      "source": [
        "df = pd.DataFrame(data=cm, index=[\"0\", \"1\", \"2\", \"3\"], columns=[\"0\", \"1\", \"2\", \"3\"])\n",
        "\n",
        "FP = cm.sum(axis=0) - np.diag(cm)  \n",
        "FN = cm.sum(axis=1) - np.diag(cm)\n",
        "TP = np.diag(cm)\n",
        "TN = df.values.sum() - (FP + FN + TP) # necesito la cm como dataframe\n",
        "\n",
        "# Sensitivity, hit rate, recall, or true positive rate\n",
        "TPR = TP/(TP+FN)\n",
        "# Specificity or true negative rate\n",
        "TNR = TN/(TN+FP) \n",
        "# Precision or positive predictive value\n",
        "PPV = TP/(TP+FP)\n",
        "# Negative predictive value\n",
        "NPV = TN/(TN+FN)\n",
        "# Fall out or false positive rate\n",
        "FPR = FP/(FP+TN)\n",
        "# False negative rate\n",
        "FNR = FN/(TP+FN)\n",
        "# False discovery rate\n",
        "FDR = FP/(TP+FP)\n",
        "\n",
        "# Overall accuracy\n",
        "ACC = (TP+TN)/(TP+FP+FN+TN)"
      ],
      "metadata": {
        "id": "P-lwjx92IPKc"
      },
      "execution_count": null,
      "outputs": []
    },
    {
      "cell_type": "code",
      "source": [
        "metrics = np.array([FP,\n",
        "          FN,\n",
        "          TP,\n",
        "          TN,\n",
        "          TPR,\n",
        "          TNR,\n",
        "          PPV,\n",
        "          NPV,\n",
        "          FPR,\n",
        "          FNR,\n",
        "          FDR,\n",
        "          ACC])"
      ],
      "metadata": {
        "id": "hG-d4wvIIPKc"
      },
      "execution_count": null,
      "outputs": []
    },
    {
      "cell_type": "code",
      "source": [
        "df2 = pd.DataFrame(data=np.round(metrics,2), index=[\"FP\", \"FN\", \"TP\", \"TN\", \"TPR\", \"TNR\", \"PPV\", \"NPV\", \"FPR\", \"FNR\", \"FDR\", \"ACC\"],\n",
        "                   columns=[\"0\", \"1\", \"2\", \"3\"])"
      ],
      "metadata": {
        "id": "V1bXASJDIPKc"
      },
      "execution_count": null,
      "outputs": []
    },
    {
      "cell_type": "code",
      "source": [
        "df2"
      ],
      "metadata": {
        "colab": {
          "base_uri": "https://localhost:8080/",
          "height": 426
        },
        "outputId": "6c054194-7d32-49d5-992d-448ceb1ee350",
        "id": "b2waL27LIPKd"
      },
      "execution_count": null,
      "outputs": [
        {
          "output_type": "execute_result",
          "data": {
            "text/html": [
              "\n",
              "  <div id=\"df-b0bcbfe5-019d-47ba-bda8-ec59050c56f5\">\n",
              "    <div class=\"colab-df-container\">\n",
              "      <div>\n",
              "<style scoped>\n",
              "    .dataframe tbody tr th:only-of-type {\n",
              "        vertical-align: middle;\n",
              "    }\n",
              "\n",
              "    .dataframe tbody tr th {\n",
              "        vertical-align: top;\n",
              "    }\n",
              "\n",
              "    .dataframe thead th {\n",
              "        text-align: right;\n",
              "    }\n",
              "</style>\n",
              "<table border=\"1\" class=\"dataframe\">\n",
              "  <thead>\n",
              "    <tr style=\"text-align: right;\">\n",
              "      <th></th>\n",
              "      <th>0</th>\n",
              "      <th>1</th>\n",
              "      <th>2</th>\n",
              "      <th>3</th>\n",
              "    </tr>\n",
              "  </thead>\n",
              "  <tbody>\n",
              "    <tr>\n",
              "      <th>FP</th>\n",
              "      <td>13.00</td>\n",
              "      <td>1.00</td>\n",
              "      <td>4.00</td>\n",
              "      <td>1.00</td>\n",
              "    </tr>\n",
              "    <tr>\n",
              "      <th>FN</th>\n",
              "      <td>6.00</td>\n",
              "      <td>6.00</td>\n",
              "      <td>3.00</td>\n",
              "      <td>4.00</td>\n",
              "    </tr>\n",
              "    <tr>\n",
              "      <th>TP</th>\n",
              "      <td>103.00</td>\n",
              "      <td>103.00</td>\n",
              "      <td>106.00</td>\n",
              "      <td>105.00</td>\n",
              "    </tr>\n",
              "    <tr>\n",
              "      <th>TN</th>\n",
              "      <td>314.00</td>\n",
              "      <td>326.00</td>\n",
              "      <td>323.00</td>\n",
              "      <td>326.00</td>\n",
              "    </tr>\n",
              "    <tr>\n",
              "      <th>TPR</th>\n",
              "      <td>0.94</td>\n",
              "      <td>0.94</td>\n",
              "      <td>0.97</td>\n",
              "      <td>0.96</td>\n",
              "    </tr>\n",
              "    <tr>\n",
              "      <th>TNR</th>\n",
              "      <td>0.96</td>\n",
              "      <td>1.00</td>\n",
              "      <td>0.99</td>\n",
              "      <td>1.00</td>\n",
              "    </tr>\n",
              "    <tr>\n",
              "      <th>PPV</th>\n",
              "      <td>0.89</td>\n",
              "      <td>0.99</td>\n",
              "      <td>0.96</td>\n",
              "      <td>0.99</td>\n",
              "    </tr>\n",
              "    <tr>\n",
              "      <th>NPV</th>\n",
              "      <td>0.98</td>\n",
              "      <td>0.98</td>\n",
              "      <td>0.99</td>\n",
              "      <td>0.99</td>\n",
              "    </tr>\n",
              "    <tr>\n",
              "      <th>FPR</th>\n",
              "      <td>0.04</td>\n",
              "      <td>0.00</td>\n",
              "      <td>0.01</td>\n",
              "      <td>0.00</td>\n",
              "    </tr>\n",
              "    <tr>\n",
              "      <th>FNR</th>\n",
              "      <td>0.06</td>\n",
              "      <td>0.06</td>\n",
              "      <td>0.03</td>\n",
              "      <td>0.04</td>\n",
              "    </tr>\n",
              "    <tr>\n",
              "      <th>FDR</th>\n",
              "      <td>0.11</td>\n",
              "      <td>0.01</td>\n",
              "      <td>0.04</td>\n",
              "      <td>0.01</td>\n",
              "    </tr>\n",
              "    <tr>\n",
              "      <th>ACC</th>\n",
              "      <td>0.96</td>\n",
              "      <td>0.98</td>\n",
              "      <td>0.98</td>\n",
              "      <td>0.99</td>\n",
              "    </tr>\n",
              "  </tbody>\n",
              "</table>\n",
              "</div>\n",
              "      <button class=\"colab-df-convert\" onclick=\"convertToInteractive('df-b0bcbfe5-019d-47ba-bda8-ec59050c56f5')\"\n",
              "              title=\"Convert this dataframe to an interactive table.\"\n",
              "              style=\"display:none;\">\n",
              "        \n",
              "  <svg xmlns=\"http://www.w3.org/2000/svg\" height=\"24px\"viewBox=\"0 0 24 24\"\n",
              "       width=\"24px\">\n",
              "    <path d=\"M0 0h24v24H0V0z\" fill=\"none\"/>\n",
              "    <path d=\"M18.56 5.44l.94 2.06.94-2.06 2.06-.94-2.06-.94-.94-2.06-.94 2.06-2.06.94zm-11 1L8.5 8.5l.94-2.06 2.06-.94-2.06-.94L8.5 2.5l-.94 2.06-2.06.94zm10 10l.94 2.06.94-2.06 2.06-.94-2.06-.94-.94-2.06-.94 2.06-2.06.94z\"/><path d=\"M17.41 7.96l-1.37-1.37c-.4-.4-.92-.59-1.43-.59-.52 0-1.04.2-1.43.59L10.3 9.45l-7.72 7.72c-.78.78-.78 2.05 0 2.83L4 21.41c.39.39.9.59 1.41.59.51 0 1.02-.2 1.41-.59l7.78-7.78 2.81-2.81c.8-.78.8-2.07 0-2.86zM5.41 20L4 18.59l7.72-7.72 1.47 1.35L5.41 20z\"/>\n",
              "  </svg>\n",
              "      </button>\n",
              "      \n",
              "  <style>\n",
              "    .colab-df-container {\n",
              "      display:flex;\n",
              "      flex-wrap:wrap;\n",
              "      gap: 12px;\n",
              "    }\n",
              "\n",
              "    .colab-df-convert {\n",
              "      background-color: #E8F0FE;\n",
              "      border: none;\n",
              "      border-radius: 50%;\n",
              "      cursor: pointer;\n",
              "      display: none;\n",
              "      fill: #1967D2;\n",
              "      height: 32px;\n",
              "      padding: 0 0 0 0;\n",
              "      width: 32px;\n",
              "    }\n",
              "\n",
              "    .colab-df-convert:hover {\n",
              "      background-color: #E2EBFA;\n",
              "      box-shadow: 0px 1px 2px rgba(60, 64, 67, 0.3), 0px 1px 3px 1px rgba(60, 64, 67, 0.15);\n",
              "      fill: #174EA6;\n",
              "    }\n",
              "\n",
              "    [theme=dark] .colab-df-convert {\n",
              "      background-color: #3B4455;\n",
              "      fill: #D2E3FC;\n",
              "    }\n",
              "\n",
              "    [theme=dark] .colab-df-convert:hover {\n",
              "      background-color: #434B5C;\n",
              "      box-shadow: 0px 1px 3px 1px rgba(0, 0, 0, 0.15);\n",
              "      filter: drop-shadow(0px 1px 2px rgba(0, 0, 0, 0.3));\n",
              "      fill: #FFFFFF;\n",
              "    }\n",
              "  </style>\n",
              "\n",
              "      <script>\n",
              "        const buttonEl =\n",
              "          document.querySelector('#df-b0bcbfe5-019d-47ba-bda8-ec59050c56f5 button.colab-df-convert');\n",
              "        buttonEl.style.display =\n",
              "          google.colab.kernel.accessAllowed ? 'block' : 'none';\n",
              "\n",
              "        async function convertToInteractive(key) {\n",
              "          const element = document.querySelector('#df-b0bcbfe5-019d-47ba-bda8-ec59050c56f5');\n",
              "          const dataTable =\n",
              "            await google.colab.kernel.invokeFunction('convertToInteractive',\n",
              "                                                     [key], {});\n",
              "          if (!dataTable) return;\n",
              "\n",
              "          const docLinkHtml = 'Like what you see? Visit the ' +\n",
              "            '<a target=\"_blank\" href=https://colab.research.google.com/notebooks/data_table.ipynb>data table notebook</a>'\n",
              "            + ' to learn more about interactive tables.';\n",
              "          element.innerHTML = '';\n",
              "          dataTable['output_type'] = 'display_data';\n",
              "          await google.colab.output.renderOutput(dataTable, element);\n",
              "          const docLink = document.createElement('div');\n",
              "          docLink.innerHTML = docLinkHtml;\n",
              "          element.appendChild(docLink);\n",
              "        }\n",
              "      </script>\n",
              "    </div>\n",
              "  </div>\n",
              "  "
            ],
            "text/plain": [
              "          0       1       2       3\n",
              "FP    13.00    1.00    4.00    1.00\n",
              "FN     6.00    6.00    3.00    4.00\n",
              "TP   103.00  103.00  106.00  105.00\n",
              "TN   314.00  326.00  323.00  326.00\n",
              "TPR    0.94    0.94    0.97    0.96\n",
              "TNR    0.96    1.00    0.99    1.00\n",
              "PPV    0.89    0.99    0.96    0.99\n",
              "NPV    0.98    0.98    0.99    0.99\n",
              "FPR    0.04    0.00    0.01    0.00\n",
              "FNR    0.06    0.06    0.03    0.04\n",
              "FDR    0.11    0.01    0.04    0.01\n",
              "ACC    0.96    0.98    0.98    0.99"
            ]
          },
          "metadata": {},
          "execution_count": 42
        }
      ]
    },
    {
      "cell_type": "markdown",
      "source": [
        "**Conclusión** \n",
        "\n",
        "A partir de la matriz de confusión se puede observar que el número de falsos positivos y falsos negativos es de 38. El valor más pequeño obtenido entre los 4 modelos de red neuronal implementados. \n",
        "\n",
        "Se observa que el accuracy con que reconoce la clase 'Otros' es de 96%, valor más alto comparado con los otros modelos (M1:94%, M2:95%, M3:93%). Además, el valor de accuracy con que diferencia las 3 marcas de cereal es de 98%, 98% y 99%, respectivamente.\n",
        "\n",
        "Este modelo final es el que se escogió para presentar a la prueba técnica."
      ],
      "metadata": {
        "id": "bgZsQVb_2zAm"
      }
    }
  ]
}